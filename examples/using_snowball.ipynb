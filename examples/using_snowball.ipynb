{
 "cells": [
  {
   "cell_type": "markdown",
   "metadata": {},
   "source": [
    "## Snowball Relationship Extraction"
   ]
  },
  {
   "cell_type": "markdown",
   "metadata": {},
   "source": [
    "The new Relex package is a toolkit for performing probabilistic chemical relationship extraction based on semi-supervised online learning. The aim is to train parse expressions probabilistically, removing the need for creating parsers with trial and error.\n",
    "\n",
    "This overview is based on how to use the code, for a detailed explanation of the algorithm please see the associated paper: https://www.nature.com/articles/sdata2018111\n"
   ]
  },
  {
   "cell_type": "markdown",
   "metadata": {},
   "source": [
    "In general, chemical relationships can consist of any number of entities, that is, the elements of a relationship that are linked together to uniquely define it. Here we will focus on a simple Curie Temperature relationship that consists of the following entities:\n",
    "- A compound\n",
    "- A specifier\n",
    "- A value\n",
    "- A unit\n",
    "\n",
    "Thus this forms a quaternary relationship. Note the algorithm is generalm and so any number of entities can be specified. You can even make some entities more important than others.\n",
    "\n",
    "First define a new model, as usual:"
   ]
  },
  {
   "cell_type": "code",
   "execution_count": 9,
   "metadata": {},
   "outputs": [],
   "source": [
    "from chemdataextractor.relex import Snowball, ChemicalRelationship\n",
    "from chemdataextractor.model import BaseModel, StringType, ListType, ModelType, Compound\n",
    "import re\n",
    "from chemdataextractor.parse import R, I, W, Optional, merge, join, OneOrMore, Any, ZeroOrMore, Start\n",
    "from chemdataextractor.parse.cem import chemical_name, chemical_label\n",
    "from chemdataextractor.parse.base import BaseParser\n",
    "from chemdataextractor.parse.common import lrb, rrb, delim\n",
    "from chemdataextractor.utils import first\n",
    "from chemdataextractor.doc import Paragraph, Heading, Sentence\n",
    "from lxml import etree\n",
    "\n",
    "class CurieTemperature(BaseModel):\n",
    "    specifier = StringType()\n",
    "    value = StringType()\n",
    "    units = StringType()\n",
    "\n",
    "Compound.curie_temperatures = ListType(ModelType(CurieTemperature))"
   ]
  },
  {
   "cell_type": "markdown",
   "metadata": {},
   "source": [
    "Now define parse elements that describe how to identify the entities in text. Think of these as tagging processes."
   ]
  },
  {
   "cell_type": "code",
   "execution_count": 10,
   "metadata": {},
   "outputs": [],
   "source": [
    "# Define a very basic entity tagger\n",
    "specifier = (I('curie') + I('temperature') + Optional(lrb | delim) + Optional(R('^T(C|c)(urie)?')) + Optional(rrb) | R('^T(C|c)(urie)?'))('specifier').add_action(join)\n",
    "units = (R('^[CFK]\\.?$'))('units').add_action(merge)\n",
    "value = (R('^\\d+(\\.\\,\\d+)?$'))('value')"
   ]
  },
  {
   "cell_type": "markdown",
   "metadata": {},
   "source": [
    "Note we tag each with a unique identifier that will be used later. Now let the entities in a sentence be any ordering of these (or whatever ordering you feel like). Here we specify that the value and units must coincide, but this does not have to be the case. \n",
    "\n",
    "We also define an extremely general parse phrase, this will be used to identify candidate sentences."
   ]
  },
  {
   "cell_type": "code",
   "execution_count": 11,
   "metadata": {},
   "outputs": [],
   "source": [
    "# Let the entities be any combination of chemical names, specifier values and units\n",
    "entities = (chemical_name | specifier | value + units)\n",
    "\n",
    "# Now create a very generic parse phrase that will match any combination of these entities\n",
    "curie_temperature_phrase = (entities + OneOrMore(entities | Any()))('curie_temperature')\n",
    "\n",
    "# List all the entities\n",
    "curie_temp_entities = [chemical_name, specifier, value, units]"
   ]
  },
  {
   "cell_type": "markdown",
   "metadata": {},
   "source": [
    "We are now ready to start Snowballing. Lets formalise our ChemicalRelationship passing in the entities, the extraction phrase and a name."
   ]
  },
  {
   "cell_type": "code",
   "execution_count": 12,
   "metadata": {},
   "outputs": [],
   "source": [
    "curie_temp_relationship = ChemicalRelationship(curie_temp_entities, curie_temperature_phrase, name='curie_temperatures')"
   ]
  },
  {
   "cell_type": "markdown",
   "metadata": {},
   "source": [
    "# Training\n",
    "\n",
    "Create a ```Snowball``` object to use on our relationship and point to a path for training.\n",
    "\n",
    "Here will we use the default parameters:\n",
    "- Tc = 0.95, the minimum Confidence required for a new relationship to be accepted\n",
    "- Tsim=0.95, The minimum similarity between phrases for them to be clustered together\n",
    "- learning_rate = 0.5, How quickly the system updates the confidences based on new information\n",
    "- prefix_length=1, number of tokens in phrase prefix\n",
    "- suffix_length = 1, number of tokens in phrase suffix\n",
    "- prefix_weight = 0.1, the weight of the prefix in determining similarity\n",
    "- middles_weight = 0.8, the weight of the middles in determining similarity\n",
    "- suffix_weight  = 0.1, weight of suffix in determining similarity\n",
    "\n",
    "Note increasing TC and Tsim yields more extraction patterns but stricter rules on new relations.\n",
    "\n",
    "Increasing the learning rate influences how much we trust new information compared to our training.\n",
    "\n",
    "Increasing the prefix/suffix length increases the likelihood of getting overlapping relationships.\n",
    "\n",
    "\n",
    "The training process in online. This means that the user can train the system on as many papers as they like, and it will continue to update the knowledge base. At each paper, the sentences are scanned for any matches to the parse phrase, and if the sentence matches, candidate relationships are formed. There can be many candidate relationships in a single sentence, so the output provides the user will all available candidates. \n",
    "\n",
    "The user can specify to accept a relationship by typing in the number (or numbers) of the candidates they wish to accept. I.e. If you want candidate 0 only, type '0' then press enter. If you want 0 and 3 type '0,3' and press enter. If you dont want any, then press any other key. e.g. 'n' or 'no'. \n"
   ]
  },
  {
   "cell_type": "code",
   "execution_count": 13,
   "metadata": {},
   "outputs": [],
   "source": [
    "snowball = Snowball(curie_temp_relationship)"
   ]
  },
  {
   "cell_type": "code",
   "execution_count": 14,
   "metadata": {},
   "outputs": [
    {
     "name": "stdout",
     "output_type": "stream",
     "text": [
      "c2jm33712f.html\n",
      "\n",
      "\n",
      "\n",
      "Cobalt is a ferromagnetic transition metal exhibiting a high Curie temperature of 1388 K (ferromagnetic–paramagnetic transition) and a high saturation magnetization (1422 emu cm−3) at room temperature.\n",
      "\n",
      "\n",
      "Candidate 0 <(Cobalt,name,0,1), (1388,value,12,13), (Curie temperature,specifier,9,11), (K,units,13,14)>\n",
      "\n",
      "...: 0\n",
      "b806499g.html\n",
      "\n",
      "\n",
      "\n",
      "In what concerns the other range (>40 K), we observe a maximum at 60 K (Fig. 6b), probably related to a EuO-like environment located at the surface of the nanocrystals, since EuO has a Tc at 69 K.\n",
      "\n",
      "\n",
      "Candidate 0 <(69,value,46,47), (K,units,9,10), (Tc,specifier,44,45), (EuO,name,28,29)>\n",
      "\n",
      "Candidate 1 <(69,value,46,47), (K,units,9,10), (Tc,specifier,44,45), (EuO,name,41,42)>\n",
      "\n",
      "Candidate 2 <(69,value,46,47), (K,units,18,19), (Tc,specifier,44,45), (EuO,name,28,29)>\n",
      "\n",
      "Candidate 3 <(69,value,46,47), (K,units,18,19), (Tc,specifier,44,45), (EuO,name,41,42)>\n",
      "\n",
      "Candidate 4 <(69,value,46,47), (K,units,47,48), (Tc,specifier,44,45), (EuO,name,28,29)>\n",
      "\n",
      "Candidate 5 <(69,value,46,47), (K,units,47,48), (Tc,specifier,44,45), (EuO,name,41,42)>\n",
      "\n",
      "Candidate 6 <(60,value,17,18), (K,units,9,10), (Tc,specifier,44,45), (EuO,name,28,29)>\n",
      "\n",
      "Candidate 7 <(60,value,17,18), (K,units,9,10), (Tc,specifier,44,45), (EuO,name,41,42)>\n",
      "\n",
      "Candidate 8 <(60,value,17,18), (K,units,18,19), (Tc,specifier,44,45), (EuO,name,28,29)>\n",
      "\n",
      "Candidate 9 <(60,value,17,18), (K,units,18,19), (Tc,specifier,44,45), (EuO,name,41,42)>\n",
      "\n",
      "Candidate 10 <(60,value,17,18), (K,units,47,48), (Tc,specifier,44,45), (EuO,name,28,29)>\n",
      "\n",
      "Candidate 11 <(60,value,17,18), (K,units,47,48), (Tc,specifier,44,45), (EuO,name,41,42)>\n",
      "\n",
      "Candidate 12 <(40,value,8,9), (K,units,9,10), (Tc,specifier,44,45), (EuO,name,28,29)>\n",
      "\n",
      "Candidate 13 <(40,value,8,9), (K,units,9,10), (Tc,specifier,44,45), (EuO,name,41,42)>\n",
      "\n",
      "Candidate 14 <(40,value,8,9), (K,units,18,19), (Tc,specifier,44,45), (EuO,name,28,29)>\n",
      "\n",
      "Candidate 15 <(40,value,8,9), (K,units,18,19), (Tc,specifier,44,45), (EuO,name,41,42)>\n",
      "\n",
      "Candidate 16 <(40,value,8,9), (K,units,47,48), (Tc,specifier,44,45), (EuO,name,28,29)>\n",
      "\n",
      "Candidate 17 <(40,value,8,9), (K,units,47,48), (Tc,specifier,44,45), (EuO,name,41,42)>\n",
      "\n",
      "...: 5\n",
      "c6cp00375c.html\n",
      "\n",
      "\n",
      "\n",
      "The much smaller value of TB compared to the Curie temperature (627 K) of bulk Ni suggests that the thickness of the Ni shell is very small.\n",
      "\n",
      "\n",
      "Candidate 0 <(K,units,13,14), (Ni,name,17,18), (Curie temperature (,specifier,9,12), (627,value,12,13)>\n",
      "\n",
      "Candidate 1 <(K,units,13,14), (Ni,name,24,25), (Curie temperature (,specifier,9,12), (627,value,12,13)>\n",
      "\n",
      "...: 1\n",
      "c1jm13879k.html\n",
      "\n",
      "\n",
      "\n",
      "CoS2 is ferromagnetic with a Curie temperature of 116 K and Co9S8 is antiferromagnetic with a Néel temperature above the decomposition temperature.\n",
      "\n",
      "\n",
      "Candidate 0 <(CoS2,name,0,1), (Curie temperature,specifier,5,7), (116,value,8,9), (K,units,9,10)>\n",
      "\n",
      "Candidate 1 <(Co9S8,name,11,12), (Curie temperature,specifier,5,7), (116,value,8,9), (K,units,9,10)>\n",
      "\n",
      "...: 0\n",
      "c3nr33950e.html\n",
      "\n",
      "\n",
      "\n",
      "In the family of magnetic NPs, magnetite (Fe3O4) has recently attracted much attention due to its high Curie temperature (Tc ∼ 850 K), good biocompatibility, high magnetic moment, and relatively good air-stability.\n",
      "\n",
      "\n",
      "Candidate 0 <(Curie temperature ( Tc,specifier,20,24), (850,value,25,26), (K,units,26,27), (Fe3O4,name,9,10)>\n",
      "\n",
      "...: 0\n",
      "c2nr11767c.html\n",
      "\n",
      "\n",
      "\n",
      "\n",
      "Magnetite (Fe3O4) is probably the most studied half metal because of it high Curie temperature (∼858 K), which is critical for device applications.\n",
      "\n",
      "\n",
      "Candidate 0 <(858,value,19,20), (K,units,20,21), (Curie temperature (,specifier,15,18), (Fe3O4,name,2,3)>\n",
      "\n",
      "...: 0\n",
      "\n",
      "\n",
      "\n",
      "As another notable spintronic material, CrO2 has a high spin polarization (>95%) and a Curie temperature of 395 K.\n",
      "\n",
      "\n",
      "Candidate 0 <(K,units,23,24), (Curie temperature,specifier,19,21), (395,value,22,23), (CrO2,name,6,7)>\n",
      "\n",
      "...: 0\n",
      "\n",
      "\n",
      "\n",
      "Among them, BiFeO3 (BFO) has received the most attention, due to its high ferroelectric Curie temperature (∼1103 K) and the AFM Neel temperature (∼647 K).\n",
      "\n",
      "\n",
      "Candidate 0 <(647,value,32,33), (K,units,23,24), (BFO,name,5,6), (Curie temperature (,specifier,18,21)>\n",
      "\n",
      "Candidate 1 <(647,value,32,33), (K,units,23,24), (BiFeO3,name,3,4), (Curie temperature (,specifier,18,21)>\n",
      "\n",
      "Candidate 2 <(647,value,32,33), (K,units,33,34), (BFO,name,5,6), (Curie temperature (,specifier,18,21)>\n",
      "\n",
      "Candidate 3 <(647,value,32,33), (K,units,33,34), (BiFeO3,name,3,4), (Curie temperature (,specifier,18,21)>\n",
      "\n",
      "Candidate 4 <(1103,value,22,23), (K,units,23,24), (BFO,name,5,6), (Curie temperature (,specifier,18,21)>\n",
      "\n",
      "Candidate 5 <(1103,value,22,23), (K,units,23,24), (BiFeO3,name,3,4), (Curie temperature (,specifier,18,21)>\n",
      "\n",
      "Candidate 6 <(1103,value,22,23), (K,units,33,34), (BFO,name,5,6), (Curie temperature (,specifier,18,21)>\n",
      "\n",
      "Candidate 7 <(1103,value,22,23), (K,units,33,34), (BiFeO3,name,3,4), (Curie temperature (,specifier,18,21)>\n",
      "\n",
      "...: 4,5\n"
     ]
    }
   ],
   "source": [
    "snowball.train(corpus='../tests/data/relex/curie_training_set/')"
   ]
  },
  {
   "cell_type": "markdown",
   "metadata": {},
   "source": [
    "This training process automatically clusters the sentences you accept and updates the knowlede base. You can check what has been learned by searching in the relex/data folder. \n",
    "\n",
    "You can always stop training and start again, or come back to the same training process if you wish, simply load in an existing snowball system using: ```Snowball.load()```"
   ]
  },
  {
   "cell_type": "markdown",
   "metadata": {},
   "source": [
    "Looking into data/relex/curie_temperatures_patterns.txt, we see what patterns were learned from our training:\n",
    "\n",
    "\n",
    "\"<Blank> name_1 is a ferromagnetic transition metal exhibiting a high specifier_1 of value_1 <Blank> units_1 (\" with confidence score 1.0\n",
    "\n",
    "\"the name_1 nanocrystals show a transition temperature specifier_1 at around value_1 <Blank> units_1 (\" with confidence score 1.0\n",
    "\n",
    "\"the specifier_1 <Blank> value_1 <Blank> units_1 ) of bulk name_1 suggests\" with confidence score 1.0\n",
    "\n",
    "\"<Blank> name_1 is ferromagnetic with a specifier_1 of value_1 <Blank> units_1 and\" with confidence score 1.0\n",
    "\n",
    "\", name_1 has recently attracted much attention due to its high specifier_1 ∼ value_1 <Blank> units_1 )\" with confidence score 1.0\n",
    "\n",
    "\"<Blank> name_1 is probably the most studied half metal because of it high specifier_1 ∼ value_1 <Blank> units_1 )\" with confidence score 1.0\n",
    "\n",
    "\", name_1 has a high spin polarization ( > 95 % )118 and a specifier_1 of value_1 <Blank> units_1 .\" with confidence score 1.0\n",
    "\n",
    "\", name_1 ( name_2 ) has received the most attention , due to its high ferroelectric specifier_1 ∼ value_1 <Blank> units_1 )\" with confidence score 1.0\n",
    "\n",
    "\n"
   ]
  },
  {
   "cell_type": "markdown",
   "metadata": {},
   "source": [
    "# Finding New Relationships\n",
    "Now let's extract a new relationship from a previously unseen sentence. We will save to a different file so we can see the new clusters afterwards. We hope that the sentence will be similar enough to a previously seen sentence in order for us to extract the new relationship."
   ]
  },
  {
   "cell_type": "code",
   "execution_count": 15,
   "metadata": {},
   "outputs": [
    {
     "name": "stdout",
     "output_type": "stream",
     "text": [
      "Found relationship: [<(1103,value_1,9,10), (K,units_1,10,11), (curie temperature,specifier_1,6,8), (BiFeO3,name_1,0,1)>]\n"
     ]
    }
   ],
   "source": [
    "snowball.save_file_name = 'curie_new'\n",
    "test_sentence = Sentence('BiFeO3 is highly ferromagnetic with a curie temperature of 1103 K and that is extremely interesting')\n",
    "rels = snowball.extract(test_sentence)\n",
    "print(\"Found relationship:\", rels)"
   ]
  },
  {
   "cell_type": "markdown",
   "metadata": {},
   "source": [
    "As we can see, we found the right entities. Lets see how confident we are in this relation"
   ]
  },
  {
   "cell_type": "code",
   "execution_count": 16,
   "metadata": {},
   "outputs": [
    {
     "name": "stdout",
     "output_type": "stream",
     "text": [
      "1.0\n"
     ]
    }
   ],
   "source": [
    "print(rels[0].confidence)"
   ]
  },
  {
   "cell_type": "markdown",
   "metadata": {},
   "source": [
    "# Seeing what has been learned\n",
    "Lets look at the new clusters that have updated to reflect the new sentence: in ```curie_test_output_clusters```\n",
    "\n",
    "Cluster 3 contains 2 phrases\n",
    "\n",
    "CoS2 is ferromagnetic with a Curie temperature of 116 K and Co9S8 is antiferromagnetic with a Néel temperature above the decomposition temperature.28 The magnetic susceptibility of Ni3S2 was found to be temperature - independent , which is consistent with Pauli paramagnetism.\n",
    "     \n",
    "     \n",
    "BiFeO3 is ferromagnetic with a curie temperature of 1103 K and this is very interesting\n",
    "\n",
    "The cluster centroid pattern is: <Blank> name_1 is ferromagnetic with a specifier_1 of value_1 <Blank> units_1 and with confidence score 1.0\n",
    "\n"
   ]
  },
  {
   "cell_type": "markdown",
   "metadata": {},
   "source": [
    "So our sentence was assigned to Cluster 3 and the new extraction pattern confidence is 1.0."
   ]
  },
  {
   "cell_type": "markdown",
   "metadata": {},
   "source": [
    "Of course, this worked because our new sentence was (purposefully) similar to one that already existed in the training set. In order for this to work more gnereally you will need to train on a lot more than 7 examples."
   ]
  }
 ],
 "metadata": {
  "anaconda-cloud": {},
  "kernelspec": {
   "display_name": "Python 3",
   "language": "python",
   "name": "python3"
  },
  "language_info": {
   "codemirror_mode": {
    "name": "ipython",
    "version": 3
   },
   "file_extension": ".py",
   "mimetype": "text/x-python",
   "name": "python",
   "nbconvert_exporter": "python",
   "pygments_lexer": "ipython3",
   "version": "3.6.0"
  }
 },
 "nbformat": 4,
 "nbformat_minor": 2
}
