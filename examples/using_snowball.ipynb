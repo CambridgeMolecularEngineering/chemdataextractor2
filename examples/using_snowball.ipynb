{
 "cells": [
  {
   "cell_type": "markdown",
   "metadata": {},
   "source": [
    "## Snowball Relationship Extraction"
   ]
  },
  {
   "cell_type": "markdown",
   "metadata": {},
   "source": [
    "The new Relex package is a toolkit for performing probabilistic chemical relationship extraction based on semi-supervised online learning. The aim is to train parse expressions probabilistically, removing the need for creating parsers with trial and error.\n",
    "\n",
    "This overview is based on how to use the code, for a detailed explanation of the algorithm please see the associated paper: https://www.nature.com/articles/sdata2018111\n"
   ]
  },
  {
   "cell_type": "markdown",
   "metadata": {},
   "source": [
    "In general, chemical relationships can consist of any number of entities, that is, the elements of a relationship that are linked together to uniquely define it. Here we will focus on a simple Curie Temperature relationship that consists of the following entities:\n",
    "- A compound\n",
    "- A specifier\n",
    "- A value\n",
    "- A unit\n",
    "\n",
    "Thus this forms a quaternary relationship. Note the algorithm is general and so any number of entities can be specified. You can even make some entities more important than others.\n",
    "\n",
    "First define a new model, as usual:"
   ]
  },
  {
   "cell_type": "code",
   "execution_count": 20,
   "metadata": {},
   "outputs": [],
   "source": [
    "from chemdataextractor.relex import Snowball\n",
    "from chemdataextractor.model import BaseModel, StringType, ListType, ModelType, Compound, TemperatureModel\n",
    "import re\n",
    "from chemdataextractor.parse import R, I, W, Optional, merge, join, OneOrMore, Any, ZeroOrMore, Start\n",
    "from chemdataextractor.doc import Sentence"
   ]
  },
  {
   "cell_type": "code",
   "execution_count": 21,
   "metadata": {},
   "outputs": [],
   "source": [
    "class CurieTemperature(TemperatureModel):\n",
    "    specifier_expression =((I('Curie') + I('temperature')) | I('Tc')).add_action(join)\n",
    "    specifier = StringType(parse_expression=specifier_expression, required=True, contextual=True, updatable=True)\n",
    "    compound = ModelType(Compound, required=True, contextual=True, updatable=False)"
   ]
  },
  {
   "cell_type": "markdown",
   "metadata": {},
   "source": [
    "We are now ready to start Snowballing"
   ]
  },
  {
   "cell_type": "markdown",
   "metadata": {},
   "source": [
    "# Training\n",
    "\n",
    "Create a ```Snowball``` object to use on our relationship and point to a path for training.\n",
    "\n",
    "Here will we use the default parameters:\n",
    "- Tc = 0.95, the minimum Confidence required for a new relationship to be accepted\n",
    "- Tsim=0.95, The minimum similarity between phrases for them to be clustered together\n",
    "- learning_rate = 0.5, How quickly the system updates the confidences based on new information\n",
    "- prefix_length=1, number of tokens in phrase prefix\n",
    "- suffix_length = 1, number of tokens in phrase suffix\n",
    "- prefix_weight = 0.1, the weight of the prefix in determining similarity\n",
    "- middles_weight = 0.8, the weight of the middles in determining similarity\n",
    "- suffix_weight  = 0.1, weight of suffix in determining similarity\n",
    "- max_candidate_combinations = 400, maximum number of candidate,name combinations to retrieve (memory constrained)\n",
    "\n",
    "Note increasing TC and Tsim yields more extraction patterns but stricter rules on new relations.\n",
    "\n",
    "Increasing the learning rate influences how much we trust new information compared to our training.\n",
    "\n",
    "Increasing the prefix/suffix length increases the likelihood of getting overlapping relationships.\n",
    "\n",
    "\n",
    "The training process in online. This means that the user can train the system on as many papers as they like, and it will continue to update the knowledge base. At each paper, the sentences are scanned for any matches to the parse phrase, and if the sentence matches, candidate relationships are formed. There can be many candidate relationships in a single sentence, so the output provides the user will all available candidates. \n",
    "\n",
    "The user can specify to accept a relationship by typing in the number (or numbers) of the candidates they wish to accept. I.e. If you want candidate 0 only, type '0' then press enter. If you want 0 and 3 type '0,3' and press enter. If you dont want any, then press any other key. e.g. 'n' or 'no'. \n"
   ]
  },
  {
   "cell_type": "code",
   "execution_count": 3,
   "metadata": {},
   "outputs": [],
   "source": [
    "snowball = Snowball(CurieTemperature)"
   ]
  },
  {
   "cell_type": "code",
   "execution_count": 4,
   "metadata": {},
   "outputs": [],
   "source": [
    "snowball.save_file_name = 'curie_temperatures'"
   ]
  },
  {
   "cell_type": "code",
   "execution_count": 5,
   "metadata": {},
   "outputs": [
    {
     "name": "stdout",
     "output_type": "stream",
     "text": [
      "1/6:   c2jm33712f.html\n",
      "\n",
      "\n",
      "\n",
      "Cobalt is a ferromagnetic transition metal exhibiting a high Curie temperature of 1388 K (ferromagnetic–paramagnetic transition) and a high saturation magnetization (1422 emu cm−3) at room temperature.2 The technological applications of Co nanoparticles in the field of ultrahigh-density data recording and data storage are well documented in the literature.1 Recently, Co has also been used in MRI agents,3 a field which has primarily been dominated by iron oxides (Fe3O4) because of their stability and biocompatibility albeit the oxides show much less saturation magnetization (84 emu cm−3)4 in comparison to cobalt.\n",
      "\n",
      "\n",
      "Candidate 0 <(Cobalt,compound_names,0,1), (Curie temperature,specifier,9,11), (1388,raw_value,12,13), (K,raw_units,13,14)>\n",
      "\n",
      "Candidate 1 <(transition metal,compound_names,4,6), (Curie temperature,specifier,9,11), (1388,raw_value,12,13), (K,raw_units,13,14)>\n",
      "\n",
      "Candidate 2 <(Curie temperature,specifier,9,11), (1388,raw_value,12,13), (K,raw_units,13,14), (Co,compound_names,37,38)>\n",
      "\n",
      "Candidate 3 <(Curie temperature,specifier,9,11), (1388,raw_value,12,13), (K,raw_units,13,14), (Co,compound_names,59,60)>\n",
      "\n",
      "Candidate 4 <(Curie temperature,specifier,9,11), (1388,raw_value,12,13), (K,raw_units,13,14), (iron oxides,compound_names,75,77)>\n",
      "\n",
      "Candidate 5 <(Curie temperature,specifier,9,11), (1388,raw_value,12,13), (K,raw_units,13,14), (oxides,compound_names,76,77)>\n",
      "\n",
      "Candidate 6 <(Curie temperature,specifier,9,11), (1388,raw_value,12,13), (K,raw_units,13,14), (Fe3O4,compound_names,78,79)>\n",
      "\n",
      "Candidate 7 <(Curie temperature,specifier,9,11), (1388,raw_value,12,13), (K,raw_units,13,14), (oxides,compound_names,88,89)>\n",
      "\n",
      "Candidate 8 <(Curie temperature,specifier,9,11), (1388,raw_value,12,13), (K,raw_units,13,14), (cobalt,compound_names,101,102)>\n",
      "\n",
      "...: 0\n",
      "2/6:   b806499g.html\n",
      "\n",
      "\n",
      "\n",
      "\n",
      "Europium mono-chalcogenides (EuE, E = O, S, Se, Te) with the rock-salt structure have been investigated at least since the 1960s.8 The europium chalcogenides form an important class of magnetic semiconductors, revealing an assortment of magnetic ordering,8 and have frequently served as model Heisenberg magnets.9,10 Research on the effect of particle size and surface nature on the magnetic properties of the europium chalcogenides has become very appealing; for example, pressure studies have shown that the Curie temperature (TC) is very sensitive to both the Eu–Eu distance and the band gap energy.11 Among the europium mono-chalcogenides, EuS has been especially investigated due to its properties as a ferromagnetic semiconductor with a Curie temperature of 16.8 K, an energy gap of 1.6 eV, and a spin-splitting of the gap of 0.36 eV.\n",
      "\n",
      "\n",
      "Candidate 0 <(Europium mono-chalcogenides,compound_names,0,2), (Curie temperature,specifier,86,88), (16.8,raw_value,129,130), (K,raw_units,130,131)>\n",
      "\n",
      "Candidate 1 <(Europium mono-chalcogenides,compound_names,0,2), (TC,specifier,89,90), (16.8,raw_value,129,130), (K,raw_units,130,131)>\n",
      "\n",
      "Candidate 2 <(Europium mono-chalcogenides,compound_names,0,2), (Curie temperature,specifier,126,128), (16.8,raw_value,129,130), (K,raw_units,130,131)>\n",
      "\n",
      "Candidate 3 <(EuE,compound_names,3,4), (Curie temperature,specifier,86,88), (16.8,raw_value,129,130), (K,raw_units,130,131)>\n",
      "\n",
      "Candidate 4 <(EuE,compound_names,3,4), (TC,specifier,89,90), (16.8,raw_value,129,130), (K,raw_units,130,131)>\n",
      "\n",
      "Candidate 5 <(EuE,compound_names,3,4), (Curie temperature,specifier,126,128), (16.8,raw_value,129,130), (K,raw_units,130,131)>\n",
      "\n",
      "Candidate 6 <(O,compound_names,7,8), (Curie temperature,specifier,86,88), (16.8,raw_value,129,130), (K,raw_units,130,131)>\n",
      "\n",
      "Candidate 7 <(O,compound_names,7,8), (TC,specifier,89,90), (16.8,raw_value,129,130), (K,raw_units,130,131)>\n",
      "\n",
      "Candidate 8 <(O,compound_names,7,8), (Curie temperature,specifier,126,128), (16.8,raw_value,129,130), (K,raw_units,130,131)>\n",
      "\n",
      "Candidate 9 <(S,compound_names,9,10), (Curie temperature,specifier,86,88), (16.8,raw_value,129,130), (K,raw_units,130,131)>\n",
      "\n",
      "Candidate 10 <(S,compound_names,9,10), (TC,specifier,89,90), (16.8,raw_value,129,130), (K,raw_units,130,131)>\n",
      "\n",
      "Candidate 11 <(S,compound_names,9,10), (Curie temperature,specifier,126,128), (16.8,raw_value,129,130), (K,raw_units,130,131)>\n",
      "\n",
      "Candidate 12 <(Se,compound_names,11,12), (Curie temperature,specifier,86,88), (16.8,raw_value,129,130), (K,raw_units,130,131)>\n",
      "\n",
      "Candidate 13 <(Se,compound_names,11,12), (TC,specifier,89,90), (16.8,raw_value,129,130), (K,raw_units,130,131)>\n",
      "\n",
      "Candidate 14 <(Se,compound_names,11,12), (Curie temperature,specifier,126,128), (16.8,raw_value,129,130), (K,raw_units,130,131)>\n",
      "\n",
      "Candidate 15 <(Te,compound_names,13,14), (Curie temperature,specifier,86,88), (16.8,raw_value,129,130), (K,raw_units,130,131)>\n",
      "\n",
      "Candidate 16 <(Te,compound_names,13,14), (TC,specifier,89,90), (16.8,raw_value,129,130), (K,raw_units,130,131)>\n",
      "\n",
      "Candidate 17 <(Te,compound_names,13,14), (Curie temperature,specifier,126,128), (16.8,raw_value,129,130), (K,raw_units,130,131)>\n",
      "\n",
      "Candidate 18 <(europium chalcogenides,compound_names,30,32), (Curie temperature,specifier,86,88), (16.8,raw_value,129,130), (K,raw_units,130,131)>\n",
      "\n",
      "Candidate 19 <(europium chalcogenides,compound_names,30,32), (TC,specifier,89,90), (16.8,raw_value,129,130), (K,raw_units,130,131)>\n",
      "\n",
      "Candidate 20 <(europium chalcogenides,compound_names,30,32), (Curie temperature,specifier,126,128), (16.8,raw_value,129,130), (K,raw_units,130,131)>\n",
      "\n",
      "Candidate 21 <(europium chalcogenides,compound_names,70,72), (Curie temperature,specifier,86,88), (16.8,raw_value,129,130), (K,raw_units,130,131)>\n",
      "\n",
      "Candidate 22 <(europium chalcogenides,compound_names,70,72), (TC,specifier,89,90), (16.8,raw_value,129,130), (K,raw_units,130,131)>\n",
      "\n",
      "Candidate 23 <(europium chalcogenides,compound_names,70,72), (Curie temperature,specifier,126,128), (16.8,raw_value,129,130), (K,raw_units,130,131)>\n",
      "\n",
      "Candidate 24 <(Curie temperature,specifier,86,88), (Eu,compound_names,97,98), (16.8,raw_value,129,130), (K,raw_units,130,131)>\n",
      "\n",
      "Candidate 25 <(TC,specifier,89,90), (Eu,compound_names,97,98), (16.8,raw_value,129,130), (K,raw_units,130,131)>\n",
      "\n",
      "Candidate 26 <(Eu,compound_names,97,98), (Curie temperature,specifier,126,128), (16.8,raw_value,129,130), (K,raw_units,130,131)>\n",
      "\n",
      "Candidate 27 <(Curie temperature,specifier,86,88), (Eu,compound_names,99,100), (16.8,raw_value,129,130), (K,raw_units,130,131)>\n",
      "\n",
      "Candidate 28 <(TC,specifier,89,90), (Eu,compound_names,99,100), (16.8,raw_value,129,130), (K,raw_units,130,131)>\n",
      "\n",
      "Candidate 29 <(Eu,compound_names,99,100), (Curie temperature,specifier,126,128), (16.8,raw_value,129,130), (K,raw_units,130,131)>\n",
      "\n",
      "Candidate 30 <(Curie temperature,specifier,86,88), (europium mono-chalcogenides,compound_names,108,110), (16.8,raw_value,129,130), (K,raw_units,130,131)>\n",
      "\n",
      "Candidate 31 <(TC,specifier,89,90), (europium mono-chalcogenides,compound_names,108,110), (16.8,raw_value,129,130), (K,raw_units,130,131)>\n",
      "\n",
      "Candidate 32 <(europium mono-chalcogenides,compound_names,108,110), (Curie temperature,specifier,126,128), (16.8,raw_value,129,130), (K,raw_units,130,131)>\n",
      "\n",
      "Candidate 33 <(Curie temperature,specifier,86,88), (EuS,compound_names,111,112), (16.8,raw_value,129,130), (K,raw_units,130,131)>\n",
      "\n",
      "Candidate 34 <(TC,specifier,89,90), (EuS,compound_names,111,112), (16.8,raw_value,129,130), (K,raw_units,130,131)>\n",
      "\n",
      "Candidate 35 <(EuS,compound_names,111,112), (Curie temperature,specifier,126,128), (16.8,raw_value,129,130), (K,raw_units,130,131)>\n",
      "\n",
      "...: 35\n",
      "\n",
      "\n",
      "\n",
      "The DC susceptibility curves of the EuS nanocrystals show a transition temperature TC at around 15 K (estimated from the inflection point of the curves) and a thermal irreversibility below Tir = 14 K.\n",
      "\n",
      "\n",
      "Candidate 0 <(EuS,compound_names,6,7), (TC,specifier,12,13), (15,raw_value,15,16), (K,raw_units,16,17)>\n",
      "\n",
      "Candidate 1 <(EuS,compound_names,6,7), (TC,specifier,12,13), (15,raw_value,15,16), (K,raw_units,35,36)>\n",
      "\n",
      "Candidate 2 <(EuS,compound_names,6,7), (TC,specifier,12,13), (K,raw_units,16,17), (14,raw_value,34,35)>\n",
      "\n",
      "Candidate 3 <(EuS,compound_names,6,7), (TC,specifier,12,13), (14,raw_value,34,35), (K,raw_units,35,36)>\n",
      "\n",
      "...: 0\n",
      "\n",
      "\n",
      "\n",
      "The field-cooled (FC) curve tends to saturate at low temperatures, as is usually found in bulk and interacting-nanoparticle systems.23 An inspection of the temperature dependence of the inverse of the magnetic susceptibility shows that above TC the system has two Curie–Weiss regimes: one above ∼50 K with an extrapolated paramagnetic Curie temperature θp of 10.8 K, and other below ∼50 K with an extrapolated θp of 15.7 K.\n",
      "\n",
      "\n",
      "Candidate 0 <(TC,specifier,42,43), (K,raw_units,56,57), (10.8,raw_value,65,66)>\n",
      "\n",
      "Candidate 1 <(TC,specifier,42,43), (10.8,raw_value,65,66), (K,raw_units,66,67)>\n",
      "\n",
      "Candidate 2 <(TC,specifier,42,43), (10.8,raw_value,65,66), (K,raw_units,73,74)>\n",
      "\n",
      "Candidate 3 <(TC,specifier,42,43), (10.8,raw_value,65,66), (K,raw_units,80,81)>\n",
      "\n",
      "Candidate 4 <(K,raw_units,56,57), (Curie temperature,specifier,61,63), (10.8,raw_value,65,66)>\n",
      "\n",
      "Candidate 5 <(Curie temperature,specifier,61,63), (10.8,raw_value,65,66), (K,raw_units,66,67)>\n",
      "\n",
      "Candidate 6 <(Curie temperature,specifier,61,63), (10.8,raw_value,65,66), (K,raw_units,73,74)>\n",
      "\n",
      "Candidate 7 <(Curie temperature,specifier,61,63), (10.8,raw_value,65,66), (K,raw_units,80,81)>\n",
      "\n",
      "Candidate 8 <(TC,specifier,42,43), (K,raw_units,56,57), (15.7,raw_value,79,80)>\n",
      "\n",
      "Candidate 9 <(TC,specifier,42,43), (K,raw_units,66,67), (15.7,raw_value,79,80)>\n",
      "\n",
      "Candidate 10 <(TC,specifier,42,43), (K,raw_units,73,74), (15.7,raw_value,79,80)>\n",
      "\n",
      "Candidate 11 <(TC,specifier,42,43), (15.7,raw_value,79,80), (K,raw_units,80,81)>\n",
      "\n",
      "Candidate 12 <(K,raw_units,56,57), (Curie temperature,specifier,61,63), (15.7,raw_value,79,80)>\n",
      "\n",
      "Candidate 13 <(Curie temperature,specifier,61,63), (K,raw_units,66,67), (15.7,raw_value,79,80)>\n",
      "\n",
      "Candidate 14 <(Curie temperature,specifier,61,63), (K,raw_units,73,74), (15.7,raw_value,79,80)>\n",
      "\n",
      "Candidate 15 <(Curie temperature,specifier,61,63), (15.7,raw_value,79,80), (K,raw_units,80,81)>\n",
      "\n"
     ]
    },
    {
     "name": "stdout",
     "output_type": "stream",
     "text": [
      "...: n\n",
      "\n",
      "\n",
      "\n",
      "The EuS nanocrystals have low coercive fields HC (at 2 K, HC = 90 Oe) and low remanence Mr, this rapidly approaches zero as temperature increases, being zero above TC (Fig. 7).\n",
      "\n",
      "\n",
      "Candidate 0 <(EuS,compound_names,1,2), (2,raw_value,10,11), (K,raw_units,11,12), (TC,specifier,34,35)>\n",
      "\n",
      "...: n\n",
      "\n",
      "\n",
      "\n",
      "The Arrot plots shown in Fig. 6a, right, and obtained from the M(H) curves, confirm that the Curie temperature is around 15 K.\n",
      "\n",
      "\n",
      "Candidate 0 <(Curie temperature,specifier,20,22), (15,raw_value,24,25), (K,raw_units,25,26)>\n",
      "\n",
      "...: n\n",
      "\n",
      "\n",
      "\n",
      "In what concerns the other range (>40 K), we observe a maximum at 60 K (Fig. 6b), probably related to a EuO-like environment located at the surface of the nanocrystals, since EuO has a Tc at 69 K.8 The AC susceptibility curves show a high temperature region Tir > 11 K for which the in-phase susceptibility χ′ is not frequency dependent and the out-of-phase susceptibility χ″ is close to zero.\n",
      "\n",
      "\n",
      "Candidate 0 <(K,raw_units,9,10), (60,raw_value,17,18), (EuO,compound_names,28,29), (Tc,specifier,44,45)>\n",
      "\n",
      "Candidate 1 <(K,raw_units,9,10), (60,raw_value,17,18), (EuO,compound_names,41,42), (Tc,specifier,44,45)>\n",
      "\n",
      "Candidate 2 <(60,raw_value,17,18), (K,raw_units,18,19), (EuO,compound_names,28,29), (Tc,specifier,44,45)>\n",
      "\n",
      "Candidate 3 <(60,raw_value,17,18), (K,raw_units,18,19), (EuO,compound_names,41,42), (Tc,specifier,44,45)>\n",
      "\n",
      "Candidate 4 <(60,raw_value,17,18), (EuO,compound_names,28,29), (Tc,specifier,44,45), (K,raw_units,60,61)>\n",
      "\n",
      "Candidate 5 <(60,raw_value,17,18), (EuO,compound_names,41,42), (Tc,specifier,44,45), (K,raw_units,60,61)>\n",
      "\n",
      "...: n\n",
      "3/6:   c6cp00375c.html\n",
      "\n",
      "\n",
      "\n",
      "The much smaller value of TB compared to the Curie temperature (627 K) of bulk Ni suggests that the thickness of the Ni shell is very small.\n",
      "\n",
      "\n",
      "Candidate 0 <(Curie temperature,specifier,9,11), (627,raw_value,12,13), (K,raw_units,13,14), (Ni,compound_names,17,18)>\n",
      "\n",
      "Candidate 1 <(Curie temperature,specifier,9,11), (627,raw_value,12,13), (K,raw_units,13,14), (Ni,compound_names,24,25)>\n",
      "\n",
      "...: 0\n",
      "4/6:   c1jm13879k.html\n",
      "\n",
      "\n",
      "\n",
      "CoS2 is ferromagnetic with a Curie temperature of 116 K and Co9S8 is antiferromagnetic with a Néel temperature above the decomposition temperature.28 The magnetic susceptibility of Ni3S2 was found to be temperature-independent, which is consistent with Pauli paramagnetism.\n",
      "\n",
      "\n",
      "Candidate 0 <(CoS2,compound_names,0,1), (Curie temperature,specifier,5,7), (116,raw_value,8,9), (K,raw_units,9,10)>\n",
      "\n",
      "Candidate 1 <(Curie temperature,specifier,5,7), (116,raw_value,8,9), (K,raw_units,9,10), (Co9S8,compound_names,11,12)>\n",
      "\n",
      "Candidate 2 <(Curie temperature,specifier,5,7), (116,raw_value,8,9), (K,raw_units,9,10), (Ni3S2,compound_names,26,27)>\n",
      "\n",
      "...: 0\n",
      "5/6:   c3nr33950e.html\n",
      "6/6:   c2nr11767c.html\n",
      "\n",
      "\n",
      "\n",
      "As another notable spintronic material, CrO2 has a high spin polarization (>95%)118 and a Curie temperature of 395 K.\n",
      "\n",
      "\n",
      "Candidate 0 <(CrO2,compound_names,6,7), (Curie temperature,specifier,19,21), (395,raw_value,22,23), (K,raw_units,23,24)>\n",
      "\n",
      "...: 0\n"
     ]
    }
   ],
   "source": [
    "snowball.train(corpus='../tests/data/relex/curie_training_set/')"
   ]
  },
  {
   "cell_type": "markdown",
   "metadata": {},
   "source": [
    "This training process automatically clusters the sentences you accept and updates the knowlede base. You can check what has been learned by searching in the relex/data folder. \n",
    "\n",
    "You can always stop training and start again, or come back to the same training process if you wish, simply load in an existing snowball system using: ```Snowball.load()```"
   ]
  },
  {
   "cell_type": "markdown",
   "metadata": {},
   "source": [
    "# Finding New Relationships\n",
    "We can now use the Snowball object just like any other parser. Simply add the trained Snowball parser to your models."
   ]
  },
  {
   "cell_type": "code",
   "execution_count": 22,
   "metadata": {},
   "outputs": [],
   "source": [
    "CurieTemperature.parsers += [snowball]"
   ]
  },
  {
   "cell_type": "markdown",
   "metadata": {},
   "source": [
    "Now we can parse a completely new sentence and get the associated records."
   ]
  },
  {
   "cell_type": "code",
   "execution_count": 25,
   "metadata": {},
   "outputs": [
    {
     "name": "stdout",
     "output_type": "stream",
     "text": [
      "[{'Compound': {'names': ['BiFeO3']}},\n",
      " {'Compound': {'names': ['transition metal']}},\n",
      " {'CurieTemperature': {'compound': {'Compound': {'names': ['BiFeO3']}},\n",
      "                       'raw_units': 'K',\n",
      "                       'raw_value': '1103',\n",
      "                       'specifier': 'Curie temperature',\n",
      "                       'units': 'Kelvin^(1.0)',\n",
      "                       'value': [1103.0]}},\n",
      " {'CurieTemperature': {'compound': {'Compound': {'names': ['BiFeO3']}},\n",
      "                       'confidence': 0.9802186932726803,\n",
      "                       'raw_units': 'K',\n",
      "                       'raw_value': '1103',\n",
      "                       'specifier': 'Curie temperature',\n",
      "                       'units': 'Kelvin^(1.0)',\n",
      "                       'value': [1103.0]}}]\n"
     ]
    }
   ],
   "source": [
    "import pprint\n",
    "s = Sentence('BiFeO3 is a ferromagnetic transition metal exhibiting a Curie temperature of 1103 K (')\n",
    "s.add_models([CurieTemperature])\n",
    "pprint.pprint(s.records.serialize())"
   ]
  },
  {
   "cell_type": "markdown",
   "metadata": {},
   "source": [
    "As shown, the Snowball parser correctly picks out the relation and adds a confidence score to the output. The record without the confidence score is the one picked up by the AutoSentenceParser()"
   ]
  }
 ],
 "metadata": {
  "anaconda-cloud": {},
  "kernelspec": {
   "display_name": "Python 3",
   "language": "python",
   "name": "python3"
  },
  "language_info": {
   "codemirror_mode": {
    "name": "ipython",
    "version": 3
   },
   "file_extension": ".py",
   "mimetype": "text/x-python",
   "name": "python",
   "nbconvert_exporter": "python",
   "pygments_lexer": "ipython3",
   "version": "3.6.0"
  }
 },
 "nbformat": 4,
 "nbformat_minor": 2
}
