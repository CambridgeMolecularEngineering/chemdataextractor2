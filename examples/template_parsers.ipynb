{
 "cells": [
  {
   "cell_type": "markdown",
   "metadata": {},
   "source": [
    "# Template Parsers\n",
    "\n",
    "New in CDE v2.0.0 we have automated parser templates for simple quantity models (e.g. boiling point). These parsers are designed to work pretty well \"out of the box\" on most properties and can really easily extended to fit to new model types. These parsers work with higher precision than AutoSentenceParser, which is primarily used for Snowball.\n",
    "\n",
    "Currently we have 2 template parsers:\n",
    "\n",
    "1. `chemdataextractor.parse.template.QuantityModelTemplateParser` : for simple quantity models (CEM, Specifier, Value, Unit)\n",
    "2. `chemdataextractor.parse.template.MultiQuantityModelTemplateParser` : For sentences that contain multiple relationships in one sentence e.g. 'The respectively phrase'"
   ]
  },
  {
   "cell_type": "code",
   "execution_count": 1,
   "metadata": {},
   "outputs": [],
   "source": [
    "from chemdataextractor.parse.template import QuantityModelTemplateParser, MultiQuantityModelTemplateParser"
   ]
  },
  {
   "cell_type": "markdown",
   "metadata": {},
   "source": [
    "These parsers have multiple phrase built-ins that return parse phrases. These can be viewed with dir"
   ]
  },
  {
   "cell_type": "code",
   "execution_count": 2,
   "metadata": {},
   "outputs": [
    {
     "data": {
      "text/plain": [
       "['_get_data',\n",
       " '_root_phrase',\n",
       " '_specifier',\n",
       " 'cem_after_specifier_and_value_phrase',\n",
       " 'cem_before_specifier_and_value_phrase',\n",
       " 'cem_phrase',\n",
       " 'extract_error',\n",
       " 'extract_units',\n",
       " 'extract_value',\n",
       " 'interpret',\n",
       " 'model',\n",
       " 'parse_sentence',\n",
       " 'prefix',\n",
       " 'root',\n",
       " 'specifier_and_value',\n",
       " 'specifier_before_cem_and_value_phrase',\n",
       " 'specifier_phrase',\n",
       " 'trigger_phrase',\n",
       " 'value_phrase',\n",
       " 'value_specifier_cem_phrase']"
      ]
     },
     "execution_count": 2,
     "metadata": {},
     "output_type": "execute_result"
    }
   ],
   "source": [
    "[i for i in dir(QuantityModelTemplateParser) if not i.startswith('__')]"
   ]
  },
  {
   "cell_type": "markdown",
   "metadata": {},
   "source": [
    "We can use these parsers like any other, by adding them to your models."
   ]
  },
  {
   "cell_type": "code",
   "execution_count": 3,
   "metadata": {},
   "outputs": [],
   "source": [
    "from chemdataextractor.model.units.temperature import TemperatureModel\n",
    "from chemdataextractor.parse.elements import I\n",
    "from chemdataextractor.model import Compound, StringType, ModelType\n",
    "from chemdataextractor.doc import Sentence\n",
    "\n",
    "class MyTemperatureModel(TemperatureModel):\n",
    "    specifier = StringType(parse_expression=I('Tc'), required=True)\n",
    "    compound = ModelType(Compound, required=True)\n",
    "    parsers = [QuantityModelTemplateParser(), MultiQuantityModelTemplateParser()]"
   ]
  },
  {
   "cell_type": "markdown",
   "metadata": {},
   "source": [
    "The parsers should work and pretty much all basic sentences"
   ]
  },
  {
   "cell_type": "code",
   "execution_count": 4,
   "metadata": {},
   "outputs": [],
   "source": [
    "s = Sentence('It was found that BiFeO3 is really cool and has a Tc of 1093 K.')\n",
    "s.models = [MyTemperatureModel]"
   ]
  },
  {
   "cell_type": "code",
   "execution_count": 5,
   "metadata": {},
   "outputs": [],
   "source": [
    "import pprint"
   ]
  },
  {
   "cell_type": "code",
   "execution_count": 6,
   "metadata": {},
   "outputs": [
    {
     "name": "stdout",
     "output_type": "stream",
     "text": [
      "[{'Compound': {'names': ['BiFeO3']}}]\n"
     ]
    }
   ],
   "source": [
    "pprint.pprint(s.records.serialize())"
   ]
  },
  {
   "cell_type": "markdown",
   "metadata": {},
   "source": [
    "As previously mentioned we can also do respecitively-type phrases"
   ]
  },
  {
   "cell_type": "code",
   "execution_count": 7,
   "metadata": {},
   "outputs": [
    {
     "name": "stdout",
     "output_type": "stream",
     "text": [
      "[{'Compound': {'names': ['LaMnO3']}},\n",
      " {'Compound': {'names': ['HoMnO3']}},\n",
      " {'MyTemperatureModel': {'compound': {'Compound': {'names': ['HoMnO3']}},\n",
      "                         'raw_units': 'K',\n",
      "                         'raw_value': '200',\n",
      "                         'specifier': 'Tc',\n",
      "                         'units': 'Kelvin^(1.0)',\n",
      "                         'value': [200.0]}},\n",
      " {'MyTemperatureModel': {'compound': {'Compound': {'names': ['LaMnO3']}},\n",
      "                         'raw_units': 'K',\n",
      "                         'raw_value': '100',\n",
      "                         'specifier': 'Tc',\n",
      "                         'units': 'Kelvin^(1.0)',\n",
      "                         'value': [100.0]}}]\n"
     ]
    }
   ],
   "source": [
    "s = Sentence('LaMnO3 and HoMnO3 exhibit crazy values with Tc equal to 100 and 200 K, respectively')\n",
    "s.models = [MyTemperatureModel]\n",
    "pprint.pprint(s.records.serialize())"
   ]
  },
  {
   "cell_type": "markdown",
   "metadata": {},
   "source": [
    "## Creating new Templates\n",
    "The templates are good starting points but you can of course create your own new ones. Simply create a new clas that inherets from BaseAutoParser and BaseSentenceParser. All you need to implement is a root property however you can happily override the interpret functions too, if you wish. Take a look into the template.py file for examples."
   ]
  }
 ],
 "metadata": {
  "kernelspec": {
   "display_name": "Python (py36)",
   "language": "python",
   "name": "py36"
  },
  "language_info": {
   "codemirror_mode": {
    "name": "ipython",
    "version": 3
   },
   "file_extension": ".py",
   "mimetype": "text/x-python",
   "name": "python",
   "nbconvert_exporter": "python",
   "pygments_lexer": "ipython3",
   "version": "3.6.9"
  }
 },
 "nbformat": 4,
 "nbformat_minor": 2
}
