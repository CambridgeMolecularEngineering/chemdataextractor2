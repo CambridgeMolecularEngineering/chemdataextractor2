{
 "cells": [
  {
   "cell_type": "markdown",
   "metadata": {},
   "source": [
    "# Automated parsing\n",
    "\n",
    "Automated parsers in ChemDataExtractor will extract data from tables and from simple sentences.\n",
    "First we need to import the needed elements from ChemDataExtractor:"
   ]
  },
  {
   "cell_type": "code",
   "execution_count": 1,
   "metadata": {},
   "outputs": [],
   "source": [
    "from chemdataextractor.doc import Document\n",
    "from chemdataextractor.doc.text import Heading, Paragraph\n",
    "from chemdataextractor.model.units import TemperatureModel\n",
    "from chemdataextractor.model.model import Compound, ModelType, StringType\n",
    "from chemdataextractor.parse.elements import I\n",
    "from chemdataextractor.parse.actions import join"
   ]
  },
  {
   "cell_type": "markdown",
   "metadata": {},
   "source": [
    "Let's have a look at an example document"
   ]
  },
  {
   "cell_type": "code",
   "execution_count": 2,
   "metadata": {},
   "outputs": [
    {
     "data": {
      "text/html": [
       "<div class=\"cde-document\">\n",
       "<h2 class=\"cde-title\">Properties of caffeine (1)</h2>\n",
       "<p class=\"cde-paragraph\">Lorem ipsum dolor sit amet. We also determined the glass transition temperature of caffeine, Tg = 123.4°C</p>\n",
       "</div>"
      ],
      "text/plain": [
       "<Document: 2 elements>"
      ]
     },
     "execution_count": 2,
     "metadata": {},
     "output_type": "execute_result"
    }
   ],
   "source": [
    "doc = Document(Heading('Properties of caffeine (1)'),\n",
    "              Paragraph('Lorem ipsum dolor sit amet. We also determined the glass transition temperature of caffeine, Tg = 123.4°C'))\n",
    "doc"
   ]
  },
  {
   "cell_type": "markdown",
   "metadata": {},
   "source": [
    "Without specifying a model, the glass transition temperature is not extracted."
   ]
  },
  {
   "cell_type": "code",
   "execution_count": 3,
   "metadata": {},
   "outputs": [
    {
     "data": {
      "text/plain": [
       "[]"
      ]
     },
     "execution_count": 3,
     "metadata": {},
     "output_type": "execute_result"
    }
   ],
   "source": [
    "doc.records"
   ]
  },
  {
   "cell_type": "markdown",
   "metadata": {},
   "source": [
    "Then we have to define a model. We are setting the mandatory element `specifier` and a `compound`. "
   ]
  },
  {
   "cell_type": "code",
   "execution_count": 4,
   "metadata": {},
   "outputs": [],
   "source": [
    "class GlassTransitionTemperature(TemperatureModel):\n",
    "    specifier_expr = ((I('Glass') + I('transition') + I('temperature')) | I('Tg')).add_action(join)\n",
    "    specifier = StringType(parse_expression=specifier_expr, required=True, contextual=True, updatable=True)\n",
    "    compound = ModelType(Compound, required=True, contextual=True)"
   ]
  },
  {
   "cell_type": "markdown",
   "metadata": {},
   "source": [
    "Finally, we can extract the desired information from the document:"
   ]
  },
  {
   "cell_type": "code",
   "execution_count": 5,
   "metadata": {},
   "outputs": [
    {
     "name": "stdout",
     "output_type": "stream",
     "text": [
      "{'GlassTransitionTemperature': {'raw_value': '123.4', 'raw_units': '°C', 'value': [123.4], 'units': 'Celsius^(1.0)', 'specifier': 'glass transition temperature', 'compound': {'Compound': {'names': ['caffeine'], 'labels': ['1']}}}}\n"
     ]
    }
   ],
   "source": [
    "doc = Document(Heading('Properties of caffeine (1)'),\n",
    "              Paragraph('Lorem ipsum dolor sit amet, consetetur sadipscing elitr. We also determined the glass transition temperature of caffeine, Tg = 123.4°C'))\n",
    "doc.models = [GlassTransitionTemperature]\n",
    "\n",
    "for record in doc.records:\n",
    "    print(record.serialize())"
   ]
  }
 ],
 "metadata": {
  "kernelspec": {
   "display_name": "ChemTextOCR",
   "language": "python",
   "name": "chemtextocr"
  },
  "language_info": {
   "codemirror_mode": {
    "name": "ipython",
    "version": 3
   },
   "file_extension": ".py",
   "mimetype": "text/x-python",
   "name": "python",
   "nbconvert_exporter": "python",
   "pygments_lexer": "ipython3",
   "version": "3.7.12"
  }
 },
 "nbformat": 4,
 "nbformat_minor": 2
}
