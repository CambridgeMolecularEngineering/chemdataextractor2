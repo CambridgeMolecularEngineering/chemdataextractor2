{
 "cells": [
  {
   "cell_type": "markdown",
   "metadata": {},
   "source": [
    "# Automated parsing\n",
    "\n",
    "Automated parsers in ChemDataExtractor will extract data from tables and from simple sentences.\n",
    "First we need to import the needed elements from ChemDataExtractor:"
   ]
  },
  {
   "cell_type": "code",
   "execution_count": 1,
   "metadata": {},
   "outputs": [],
   "source": [
    "from chemdataextractor.doc import Document\n",
    "from chemdataextractor.doc.table_new import Table\n",
    "from chemdataextractor.model.units import TemperatureModel\n",
    "from chemdataextractor.model.model import Compound, ModelType, StringType\n",
    "from chemdataextractor.parse.elements import I\n",
    "from chemdataextractor.parse.actions import join"
   ]
  },
  {
   "cell_type": "markdown",
   "metadata": {},
   "source": [
    "Then we have to define a model. We are setting the mandatory element `specifier` and a `compound`. "
   ]
  },
  {
   "cell_type": "code",
   "execution_count": 2,
   "metadata": {},
   "outputs": [],
   "source": [
    "class GlassTransitionTemperature(TemperatureModel):\n",
    "    specifier_expr = ((I('Glass') + I('transition') + I('temperature')) | I('Tg')).add_action(join)\n",
    "    specifier = StringType(parse_expression=specifier_expr, required=True, contextual=True, updatable=True)\n",
    "    compound = ModelType(Compound, required=True, contextual=True)"
   ]
  },
  {
   "cell_type": "markdown",
   "metadata": {},
   "source": [
    "Finally, we can parse a paper:"
   ]
  },
  {
   "cell_type": "code",
   "execution_count": 3,
   "metadata": {},
   "outputs": [
    {
     "name": "stdout",
     "output_type": "stream",
     "text": [
      "{'GlassTransitionTemperature': {'raw_value': '1000', 'raw_units': '°C', 'value': [1000.0], 'units': 'Celsius^(1.0)', 'specifier': 'glass transition temperature', 'compound': {'Compound': {'names': ['S0925-8388(16)30672-7']}}}}\n",
      "{'GlassTransitionTemperature': {'raw_value': '485', 'raw_units': 'K', 'value': [485.0], 'units': 'Kelvin^(1.0)', 'specifier': 'Tg', 'compound': {'Compound': {'names': ['Ge20Se78Sn2']}}}}\n",
      "{'GlassTransitionTemperature': {'raw_value': '670', 'raw_units': 'K', 'value': [670.0], 'units': 'Kelvin^(1.0)', 'specifier': 'Tc', 'compound': {'Compound': {'names': ['Ge20Se78Sn2']}}}}\n",
      "{'GlassTransitionTemperature': {'raw_value': '185', 'raw_units': 'K', 'value': [185.0], 'units': 'Kelvin^(1.0)', 'specifier': 'Tc', 'compound': {'Compound': {'names': ['Ge20Se78Sn2']}}}}\n",
      "{'GlassTransitionTemperature': {'raw_value': '493', 'raw_units': 'K', 'value': [493.0], 'units': 'Kelvin^(1.0)', 'specifier': 'Tg', 'compound': {'Compound': {'names': ['Ge20Se76Sn4']}}}}\n",
      "{'GlassTransitionTemperature': {'raw_value': '664', 'raw_units': 'K', 'value': [664.0], 'units': 'Kelvin^(1.0)', 'specifier': 'Tc', 'compound': {'Compound': {'names': ['Ge20Se76Sn4']}}}}\n",
      "{'GlassTransitionTemperature': {'raw_value': '171', 'raw_units': 'K', 'value': [171.0], 'units': 'Kelvin^(1.0)', 'specifier': 'Tc', 'compound': {'Compound': {'names': ['Ge20Se76Sn4']}}}}\n",
      "{'GlassTransitionTemperature': {'raw_value': '511', 'raw_units': 'K', 'value': [511.0], 'units': 'Kelvin^(1.0)', 'specifier': 'Tg', 'compound': {'Compound': {'names': ['Ge20Se72Sn8']}}}}\n",
      "{'GlassTransitionTemperature': {'raw_value': '652', 'raw_units': 'K', 'value': [652.0], 'units': 'Kelvin^(1.0)', 'specifier': 'Tc', 'compound': {'Compound': {'names': ['Ge20Se72Sn8']}}}}\n",
      "{'GlassTransitionTemperature': {'raw_value': '141', 'raw_units': 'K', 'value': [141.0], 'units': 'Kelvin^(1.0)', 'specifier': 'Tc', 'compound': {'Compound': {'names': ['Ge20Se72Sn8']}}}}\n",
      "{'GlassTransitionTemperature': {'raw_value': '531', 'raw_units': 'K', 'value': [531.0], 'units': 'Kelvin^(1.0)', 'specifier': 'Tg', 'compound': {'Compound': {'names': ['Ge20Se68Sn12']}}}}\n",
      "{'GlassTransitionTemperature': {'raw_value': '5 to 40', 'raw_units': 'K', 'value': [5.0, 40.0], 'units': 'Kelvin^(1.0)', 'specifier': 'Tg', 'compound': {'Compound': {'names': ['Ge20Se80−xSnx']}}}}\n",
      "{'GlassTransitionTemperature': {'raw_value': '1', 'raw_units': 'K', 'value': [1.0], 'units': 'Kelvin^(1.0)', 'specifier': 'glass transition temperature', 'compound': {'Compound': {'names': ['S0925-8388(16)30672-7']}}}}\n",
      "{'GlassTransitionTemperature': {'raw_value': '1000', 'raw_units': '°C', 'value': [1000.0], 'units': 'Celsius^(1.0)', 'specifier': 'Tg', 'compound': {'Compound': {'names': ['S0925-8388(16)30672-7']}}}}\n",
      "{'GlassTransitionTemperature': {'raw_value': '10', 'raw_units': 'K', 'value': [10.0], 'units': 'Kelvin^(1.0)', 'specifier': 'Tg', 'compound': {'Compound': {'names': ['Ge20Se80−xSnx']}}}}\n"
     ]
    }
   ],
   "source": [
    "doc = Document.from_file(\"./data/j.jallcom.2016.03.103.xml\")\n",
    "doc.models = [GlassTransitionTemperature]\n",
    "\n",
    "for record in doc.records:\n",
    "    print(record.serialize())"
   ]
  }
 ],
 "metadata": {
  "kernelspec": {
   "display_name": "Python 3",
   "language": "python",
   "name": "python3"
  },
  "language_info": {
   "codemirror_mode": {
    "name": "ipython",
    "version": 3
   },
   "file_extension": ".py",
   "mimetype": "text/x-python",
   "name": "python",
   "nbconvert_exporter": "python",
   "pygments_lexer": "ipython3",
   "version": "3.6.4"
  }
 },
 "nbformat": 4,
 "nbformat_minor": 2
}
