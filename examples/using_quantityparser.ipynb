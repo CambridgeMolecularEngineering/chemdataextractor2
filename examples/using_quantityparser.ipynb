{
 "cells": [
  {
   "cell_type": "markdown",
   "metadata": {},
   "source": [
    "# Using QuantityParser\n",
    "\n",
    "By writing parsers subclassing QuantityParser and defining models subclassing QuantityModel, we can extract the values and units of found properties not as strings, as was the case when using BaseParser and BaseModel, but rather as (a list of) floats and a class representing the units. This allows for easy conversion and comparison of extracted properties, no matter how the original document wrote them. In this example, we will rewrite the parser from extracting_a_custom_property using these classes."
   ]
  },
  {
   "cell_type": "code",
   "execution_count": 1,
   "metadata": {
    "collapsed": false
   },
   "outputs": [],
   "source": [
    "from chemdataextractor import Document\n",
    "from chemdataextractor.physicalmodels import Compound\n",
    "from chemdataextractor.doc import Paragraph, Heading"
   ]
  },
  {
   "cell_type": "markdown",
   "metadata": {
    "collapsed": true
   },
   "source": [
    "## Example Document\n",
    "\n",
    "Let's create a simple example document with a single heading followed by a single paragraph:"
   ]
  },
  {
   "cell_type": "code",
   "execution_count": 2,
   "metadata": {
    "collapsed": true
   },
   "outputs": [],
   "source": [
    "d = Document(\n",
    "    Heading(u'Synthesis of 2,4,6-trinitrotoluene (3a)'),\n",
    "    Paragraph(u'The procedure was followed to yield a pale yellow solid (b.p. 240 °C)')\n",
    ")"
   ]
  },
  {
   "cell_type": "markdown",
   "metadata": {},
   "source": [
    "What does this look like:"
   ]
  },
  {
   "cell_type": "code",
   "execution_count": 4,
   "metadata": {
    "collapsed": false
   },
   "outputs": [
    {
     "data": {
      "text/html": [
       "<div class=\"cde-document\">\n",
       "<h2 class=\"cde-title\">Synthesis of 2,4,6-trinitrotoluene (3a)</h2>\n",
       "<p class=\"cde-paragraph\">The procedure was followed to yield a pale yellow solid (b.p. 240 °C)</p>\n",
       "</div>"
      ],
      "text/plain": [
       "<Document: 2 elements>"
      ]
     },
     "execution_count": 4,
     "metadata": {},
     "output_type": "execute_result"
    }
   ],
   "source": [
    "d"
   ]
  },
  {
   "cell_type": "markdown",
   "metadata": {},
   "source": [
    "## Default Parsers\n",
    "\n",
    "By default, ChemDataExtractor doesn't extract boiling points:"
   ]
  },
  {
   "cell_type": "code",
   "execution_count": 5,
   "metadata": {
    "collapsed": false
   },
   "outputs": [
    {
     "data": {
      "text/plain": [
       "[{'labels': ['3a'], 'names': ['2,4,6-trinitrotoluene'], 'roles': ['product']}]"
      ]
     },
     "execution_count": 5,
     "metadata": {},
     "output_type": "execute_result"
    }
   ],
   "source": [
    "d.records.serialize()"
   ]
  },
  {
   "cell_type": "markdown",
   "metadata": {},
   "source": [
    "## Defining a New QuantityModel\n",
    "\n",
    "The first task is to define the schema of a new property, and add it to the `Compound` model. Note that because `TemperatureModel`, a subclass of `QuantityModel`, is already defined, and all subclasses of `QuantityModel` have a value and a unit, we don't need to define those. An example of how to define new types of quantities can be seen in `chemdataextractor.units.temperature.py`."
   ]
  },
  {
   "cell_type": "code",
   "execution_count": 11,
   "metadata": {
    "collapsed": false
   },
   "outputs": [],
   "source": [
    "from chemdataextractor.units.temperatures import TemperatureModel, Temperature, Kelvin\n",
    "from chemdataextractor.model import ListType, ModelType\n",
    "\n",
    "class BoilingPoint(TemperatureModel):\n",
    "    pass\n",
    "\n",
    "Compound.boiling_points = ListType(ModelType(BoilingPoint))"
   ]
  },
  {
   "cell_type": "markdown",
   "metadata": {},
   "source": [
    "## Writing a New Parser\n",
    "\n",
    "Next, define parsing rules that define how to interpret text and convert it into the model. Once we define the dimensions in a `QuantityParser` subclass, it should be able to autmatically parse the units found. If you encounter units that are missing, they can always be added, an example of which can be seen in `chemdataextractor.units.temperature.py`."
   ]
  },
  {
   "cell_type": "code",
   "execution_count": 8,
   "metadata": {
    "collapsed": true
   },
   "outputs": [],
   "source": [
    "import re\n",
    "from chemdataextractor.parse import R, I, W, Optional, merge\n",
    "\n",
    "prefix = (R(u'^b\\.?p\\.?$', re.I) | I(u'boiling') + I(u'point')).hide()\n",
    "units = (W(u'°') + Optional(R(u'^[CFK]\\.?$')))(u'units').add_action(merge)\n",
    "value = R(u'^\\d+(\\.\\d+)?$')(u'value')\n",
    "bp = (prefix + value + units)(u'bp')"
   ]
  },
  {
   "cell_type": "code",
   "execution_count": 9,
   "metadata": {
    "collapsed": true
   },
   "outputs": [],
   "source": [
    "from chemdataextractor.parse.quantity import QuantityParser\n",
    "from chemdataextractor.utils import first\n",
    "\n",
    "class BpParser(QuantityParser):\n",
    "    root = bp\n",
    "    dimensions = Temperature()\n",
    "\n",
    "    def interpret(self, result, start, end):\n",
    "        compound = Compound(\n",
    "            boiling_points=[\n",
    "                BoilingPoint(\n",
    "                    value=self.extract_value(first(result.xpath('./value/text()'))),\n",
    "                    units=self.extract_units(first(result.xpath('./units/text()')))\n",
    "                )\n",
    "            ]\n",
    "        )\n",
    "        yield compound\n",
    "\n"
   ]
  },
  {
   "cell_type": "code",
   "execution_count": 10,
   "metadata": {
    "collapsed": true
   },
   "outputs": [],
   "source": [
    "Paragraph.parsers = [BpParser()]"
   ]
  },
  {
   "cell_type": "markdown",
   "metadata": {},
   "source": [
    "## Running the New Parser\n",
    "\n",
    "The parser can then be run on the document. Because `BoilingPoint` is a subclass of `QuantityModel`, we can then, for example, conver the result to Kelvins."
   ]
  },
  {
   "cell_type": "code",
   "execution_count": 13,
   "metadata": {
    "collapsed": false
   },
   "outputs": [
    {
     "name": "stdout",
     "output_type": "stream",
     "text": [
      "2,4,6-trinitrotoluene\n",
      "Boiling point was found to be: Quantity with Temperature, Celsius^(1.0) and a value of 240.0\n",
      "Boiling point in Kelvins is: 513.15\n"
     ]
    }
   ],
   "source": [
    "d = Document(\n",
    "    Heading(u'Synthesis of 2,4,6-trinitrotoluene (3a)'),\n",
    "    Paragraph(u'The procedure was followed to yield a pale yellow solid (b.p. 240 °C)')\n",
    ")\n",
    "\n",
    "for record in d.records:\n",
    "    print(record.names[0])\n",
    "    print('Boiling point was found to be:', record.boiling_points[0])\n",
    "    kelvin_value = record.boiling_points[0].convert_to(Kelvin())\n",
    "    print('Boiling point in Kelvins is:', kelvin_value)"
   ]
  },
  {
   "cell_type": "code",
   "execution_count": null,
   "metadata": {
    "collapsed": true
   },
   "outputs": [],
   "source": []
  }
 ],
 "metadata": {
  "anaconda-cloud": {},
  "kernelspec": {
   "display_name": "Python [default]",
   "language": "python",
   "name": "python3"
  },
  "language_info": {
   "codemirror_mode": {
    "name": "ipython",
    "version": 3
   },
   "file_extension": ".py",
   "mimetype": "text/x-python",
   "name": "python",
   "nbconvert_exporter": "python",
   "pygments_lexer": "ipython3",
   "version": "3.5.2"
  }
 },
 "nbformat": 4,
 "nbformat_minor": 2
}
