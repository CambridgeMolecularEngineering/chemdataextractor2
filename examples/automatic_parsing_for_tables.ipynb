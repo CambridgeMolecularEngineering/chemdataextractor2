{
 "cells": [
  {
   "cell_type": "markdown",
   "metadata": {},
   "source": [
    "# Automated parsing for tables with *TableDataExtractor*\n",
    "\n",
    "First, we will check out a particular table we want to parse. The table can be passed into the *ChemDataExtractor* (CDE) framework manually, or, will be processed automatically when a document is passed into CDE. We are using some keywords for *TableDataExtractor* (TDE), ``use_notes_in_first_col=False`` and ``use_title_row=False`` (see [TDE documentation](https://juraj-mavracic-tabledataextractor.readthedocs-hosted.com/en/latest/)).\n",
    "\n",
    "At the moment no records will be found since we haven't defined a model yet."
   ]
  },
  {
   "cell_type": "code",
   "execution_count": 1,
   "metadata": {},
   "outputs": [
    {
     "name": "stdout",
     "output_type": "stream",
     "text": [
      "                                   Temperatures  Temperatures  Magnetic moment  \n",
      "Type                     Compound  Tc/K          Tn/K          B [T]            \n",
      "Inorganic                BiFeO3    1100          643                            \n",
      "Inorganic                 LaCrO3   257           150           0.1 mT           \n",
      "Organic                  LaCrO2                  10            500              \n",
      "Inorganic                Gd                      294           659 T            \n",
      "* This table is nothing                                                         \n",
      "\n",
      "\n"
     ]
    },
    {
     "data": {
      "text/plain": [
       "[]"
      ]
     },
     "execution_count": 1,
     "metadata": {},
     "output_type": "execute_result"
    }
   ],
   "source": [
    "from chemdataextractor.doc.table_new import Table\n",
    "from tabledataextractor.output.print import print_table\n",
    "\n",
    "path = \"../examples/data/table_example.csv\"\n",
    "table = Table(caption=[], \n",
    "              table_data=path, \n",
    "              use_notes_in_first_col=False, use_title_row=False)\n",
    "print_table(table.tde_table.raw_table)\n",
    "\n",
    "table.records"
   ]
  },
  {
   "cell_type": "markdown",
   "metadata": {},
   "source": [
    "## Model Creation\n",
    "\n",
    "We want to retrieve the Curie temperatures, Tc, from the table. To define a suitable model, we can input some base model types. In our case, ``TemperatureModel`` is the right choice. It assumes units of temperature automatically. Alternatively, ``BaseModel`` can be used for anything. Also, we can import some parsing objects from CDE, like ``I``, ``W``, ``R``, ``Optional``, and other elements we need to create parse expressions.\n",
    "\n",
    "A ``specifier`` is the only mandatory element for the new model.\n",
    "\n",
    "Finally, due to the current structure of the CDE code, we need to add the newly defined model to the ``Compound`` model (this step will be removed in the near future):"
   ]
  },
  {
   "cell_type": "code",
   "execution_count": 2,
   "metadata": {},
   "outputs": [],
   "source": [
    "from chemdataextractor.model.units.temperature import TemperatureModel\n",
    "from chemdataextractor.parse.elements import I\n",
    "from chemdataextractor.model.model import Compound\n",
    "from chemdataextractor.model.base import ListType, ModelType\n",
    "\n",
    "class CurieTemperature(TemperatureModel):\n",
    "    specifier = I('TC')\n",
    "\n",
    "Compound.CurieTemperature = ListType(ModelType(CurieTemperature))"
   ]
  },
  {
   "cell_type": "markdown",
   "metadata": {},
   "source": [
    "We then parse the table, by passing on newly created models into the table as a list. Alternatively, we can add the new model to the ``chemdataextractor.model.model`` module. In that case, it would be used automatically for every table loaded into CDE."
   ]
  },
  {
   "cell_type": "code",
   "execution_count": 3,
   "metadata": {},
   "outputs": [
    {
     "data": {
      "text/plain": [
       "[{'names': ['BiFeO3'],\n",
       "  'CurieTemperature': [{'raw_value': '1100',\n",
       "    'raw_units': 'K',\n",
       "    'value': [1100.0],\n",
       "    'units': 'Kelvin^(1.0)'}]},\n",
       " {'names': ['LaCrO3'],\n",
       "  'CurieTemperature': [{'raw_value': '257',\n",
       "    'raw_units': 'K',\n",
       "    'value': [257.0],\n",
       "    'units': 'Kelvin^(1.0)'}]}]"
      ]
     },
     "execution_count": 3,
     "metadata": {},
     "output_type": "execute_result"
    }
   ],
   "source": [
    "table = Table(models=[CurieTemperature],\n",
    "              caption=[], \n",
    "              table_data=path, \n",
    "              use_notes_in_first_col=False, use_title_row=False)\n",
    "table.records"
   ]
  },
  {
   "cell_type": "markdown",
   "metadata": {},
   "source": [
    "## Advanced Features\n",
    "\n",
    "We can add custom fields to the model, that will be parsed automatically. For that we have to specify the data model of the fields (``StringType``, ``FloatType``, ...) and provide a ``parse expression`` that is composed out of parse elements, like all other parse expressions in ChemDataExtractor. \n",
    "\n",
    "These field can be made required (``required = True``) if needed, or optional (``required = False``, default)."
   ]
  },
  {
   "cell_type": "code",
   "execution_count": 4,
   "metadata": {},
   "outputs": [
    {
     "data": {
      "text/plain": [
       "[{'names': ['BiFeO3'],\n",
       "  'CurieTemperature': [{'raw_value': '1100',\n",
       "    'raw_units': 'K',\n",
       "    'value': [1100.0],\n",
       "    'units': 'Kelvin^(1.0)',\n",
       "    'label': 'Inorganic'}]},\n",
       " {'names': ['LaCrO3'],\n",
       "  'CurieTemperature': [{'raw_value': '257',\n",
       "    'raw_units': 'K',\n",
       "    'value': [257.0],\n",
       "    'units': 'Kelvin^(1.0)',\n",
       "    'label': 'Inorganic'}]}]"
      ]
     },
     "execution_count": 4,
     "metadata": {},
     "output_type": "execute_result"
    }
   ],
   "source": [
    "from chemdataextractor.model.base import StringType\n",
    "\n",
    "class CurieTemperature(TemperatureModel):\n",
    "    specifier = I('TC')\n",
    "    label = StringType(parse_expression=I('inorganic'))\n",
    "    \n",
    "table = Table(models=[CurieTemperature],\n",
    "              caption=[], \n",
    "              table_data=path, \n",
    "              use_notes_in_first_col=False, use_title_row=False)\n",
    "table.records"
   ]
  },
  {
   "cell_type": "code",
   "execution_count": 5,
   "metadata": {},
   "outputs": [
    {
     "data": {
      "text/plain": [
       "[]"
      ]
     },
     "execution_count": 5,
     "metadata": {},
     "output_type": "execute_result"
    }
   ],
   "source": [
    "class CurieTemperature(TemperatureModel):\n",
    "    specifier = I('TC')\n",
    "    label = StringType(parse_expression=I('inorganic'))\n",
    "    something_else = StringType(parse_expression=I('TableDataExtractor'), \n",
    "                                required=True)\n",
    "    \n",
    "table = Table(models=[CurieTemperature],\n",
    "              caption=[], table_data=path, \n",
    "              use_notes_in_first_col=False, use_title_row=False)\n",
    "table.records "
   ]
  },
  {
   "cell_type": "markdown",
   "metadata": {},
   "source": [
    "## Future\n",
    "\n",
    "1. Models will be updated automatically based on what is found in the document. For example, based on the specifier obtained with the *definitions* feature in CDE, the model specifier will be updated on the go.\n",
    "\n",
    " \n",
    "\n",
    "2. Interdependency resolution, for partial records. For example, if the compound is found in the caption of the table, or, if a required model-label is found as separate data or in a different table.\n",
    "\n",
    "\n",
    "\n",
    "3. New elements of the model (not manually defined by the user) can be suggested probabilistically, based on what has been ususally found in the document. For example, the pressure can be added to a record of the glass transition temperature.\n",
    "\n",
    "\n",
    "\n",
    "4. Automated creation of new models, based on the *definitions*. \n"
   ]
  }
 ],
 "metadata": {
  "kernelspec": {
   "display_name": "Python 3",
   "language": "python",
   "name": "python3"
  },
  "language_info": {
   "codemirror_mode": {
    "name": "ipython",
    "version": 3
   },
   "file_extension": ".py",
   "mimetype": "text/x-python",
   "name": "python",
   "nbconvert_exporter": "python",
   "pygments_lexer": "ipython3",
   "version": "3.6.4"
  }
 },
 "nbformat": 4,
 "nbformat_minor": 2
}
