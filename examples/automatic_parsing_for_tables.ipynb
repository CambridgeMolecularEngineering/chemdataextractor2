{
 "cells": [
  {
   "cell_type": "markdown",
   "metadata": {},
   "source": [
    "# Automated parsing for tables with *TableDataExtractor*\n",
    "\n",
    "First, we will check out a particular table we want to parse. The table can be passed into the *ChemDataExtractor* (CDE) framework manually, or, will be processed automatically when a document is passed into CDE. More information about TableDataExtractor can be found at [TDE documentation](https://cambridgemolecularengineering-tabledataextractor.readthedocs-hosted.com/en/latest/).\n",
    "\n",
    "At the moment no records will be found since we haven't defined a model yet."
   ]
  },
  {
   "cell_type": "code",
   "execution_count": 1,
   "metadata": {},
   "outputs": [
    {
     "name": "stdout",
     "output_type": "stream",
     "text": [
      "+---------+--------------------------+------------------------------+\n",
      "|   Data  |      Row Categories      |      Column Categories       |\n",
      "+---------+--------------------------+------------------------------+\n",
      "|   1100  | ['Inorganic', 'BiFeO3']  |   ['Temperatures', 'Tc/K']   |\n",
      "|   643   | ['Inorganic', 'BiFeO3']  |   ['Temperatures', 'Tn/K']   |\n",
      "| NoValue | ['Inorganic', 'BiFeO3']  | ['Magnetic moment', 'B [T]'] |\n",
      "|   257   | ['Inorganic', ' LaCrO3'] |   ['Temperatures', 'Tc/K']   |\n",
      "|   150   | ['Inorganic', ' LaCrO3'] |   ['Temperatures', 'Tn/K']   |\n",
      "|  0.1 mT | ['Inorganic', ' LaCrO3'] | ['Magnetic moment', 'B [T]'] |\n",
      "| NoValue |  ['Organic', 'LaCrO2']   |   ['Temperatures', 'Tc/K']   |\n",
      "|    10   |  ['Organic', 'LaCrO2']   |   ['Temperatures', 'Tn/K']   |\n",
      "|   500   |  ['Organic', 'LaCrO2']   | ['Magnetic moment', 'B [T]'] |\n",
      "| NoValue |   ['Inorganic', 'Gd']    |   ['Temperatures', 'Tc/K']   |\n",
      "|   294   |   ['Inorganic', 'Gd']    |   ['Temperatures', 'Tn/K']   |\n",
      "|  659 T  |   ['Inorganic', 'Gd']    | ['Magnetic moment', 'B [T]'] |\n",
      "+---------+--------------------------+------------------------------+\n"
     ]
    },
    {
     "data": {
      "text/plain": [
       "[]"
      ]
     },
     "execution_count": 1,
     "metadata": {},
     "output_type": "execute_result"
    }
   ],
   "source": [
    "from chemdataextractor.doc.table import Table\n",
    "from chemdataextractor.doc import Caption\n",
    "\n",
    "path = \"./data/table_example.csv\"\n",
    "table = Table(caption=Caption(\"\"),table_data=path)\n",
    "\n",
    "print(table.tde_table)\n",
    "table.records"
   ]
  },
  {
   "cell_type": "markdown",
   "metadata": {},
   "source": [
    "## Model Creation\n",
    "\n",
    "We want to retrieve the Curie temperatures, Tc, from the table. To define a suitable model, we can input some base model types. In our case, ``TemperatureModel`` is the right choice. It assumes units of temperature automatically. Alternatively, ``BaseModel`` can be used for anything. Also, we can import some parsing objects from CDE, like ``I``, ``W``, ``R``, ``Optional``, and other elements we need to create parse expressions.\n",
    "\n",
    "A ``specifier`` is the only mandatory element for the new model.\n",
    "We also want to add a ``compound`` (reserved name) that is a model of the type Compound."
   ]
  },
  {
   "cell_type": "code",
   "execution_count": 2,
   "metadata": {},
   "outputs": [],
   "source": [
    "from chemdataextractor.model.units.temperature import TemperatureModel\n",
    "from chemdataextractor.parse.elements import I\n",
    "from chemdataextractor.model.model import Compound\n",
    "from chemdataextractor.model.base import ListType, ModelType, StringType\n",
    "\n",
    "class CurieTemperature(TemperatureModel):\n",
    "    specifier = StringType(parse_expression=I('TC'), required=True, contextual=True, updatable=True)\n",
    "    compound = ModelType(Compound, required=True, contextual=True)"
   ]
  },
  {
   "cell_type": "markdown",
   "metadata": {},
   "source": [
    "We then parse the table, by setting the models for the table:"
   ]
  },
  {
   "cell_type": "code",
   "execution_count": 3,
   "metadata": {},
   "outputs": [
    {
     "name": "stdout",
     "output_type": "stream",
     "text": [
      "Initialising AllenNLP model ✔   \n",
      "{'Compound': {'names': ['BiFeO3']}}\n",
      "{'Compound': {'names': ['LaCrO3']}}\n",
      "{'Compound': {'names': ['LaCrO2']}}\n",
      "{'Compound': {'names': ['Gd']}}\n",
      "{'CurieTemperature': {'raw_value': '1100', 'raw_units': 'K', 'value': [1100.0], 'units': 'Kelvin^(1.0)', 'specifier': 'Tc', 'compound': {'Compound': {'names': ['BiFeO3']}}}}\n",
      "{'CurieTemperature': {'raw_value': '643', 'value': [643.0], 'compound': {'Compound': {'names': ['BiFeO3']}}}}\n",
      "{'CurieTemperature': {'raw_value': '257', 'raw_units': 'K', 'value': [257.0], 'units': 'Kelvin^(1.0)', 'specifier': 'Tc', 'compound': {'Compound': {'names': ['LaCrO3']}}}}\n",
      "{'CurieTemperature': {'raw_value': '150', 'value': [150.0], 'compound': {'Compound': {'names': ['LaCrO3']}}}}\n",
      "{'CurieTemperature': {'raw_value': '0.1', 'value': [0.1], 'compound': {'Compound': {'names': ['LaCrO3']}}}}\n",
      "{'CurieTemperature': {'raw_value': '10', 'raw_units': 'K', 'value': [10.0], 'units': 'Kelvin^(1.0)', 'specifier': 'Tc', 'compound': {'Compound': {'names': ['LaCrO2']}}}}\n",
      "{'CurieTemperature': {'raw_value': '500', 'raw_units': 'K', 'value': [500.0], 'units': 'Kelvin^(1.0)', 'specifier': 'Tc', 'compound': {'Compound': {'names': ['LaCrO2']}}}}\n",
      "{'CurieTemperature': {'raw_value': '294', 'raw_units': 'K', 'value': [294.0], 'units': 'Kelvin^(1.0)', 'specifier': 'Tc', 'compound': {'Compound': {'names': ['Gd']}}}}\n",
      "{'CurieTemperature': {'raw_value': '659', 'raw_units': 'K', 'value': [659.0], 'units': 'Kelvin^(1.0)', 'specifier': 'Tc', 'compound': {'Compound': {'names': ['Gd']}}}}\n"
     ]
    }
   ],
   "source": [
    "table = Table(caption=Caption(\"\"),table_data=path, models=[CurieTemperature])\n",
    "for record in table.records:\n",
    "    print(record.serialize())"
   ]
  },
  {
   "cell_type": "markdown",
   "metadata": {},
   "source": [
    "## Advanced Features\n",
    "\n",
    "We can add custom fields to the model, that will be parsed automatically. For that we have to specify the data model of the fields (``StringType``, ``FloatType``, ...) and provide a ``parse expression`` that is composed out of parse elements, like all other parse expressions in ChemDataExtractor. \n",
    "\n",
    "These field can be made required (``required = True``) if needed, or optional (``required = False``, default)."
   ]
  },
  {
   "cell_type": "code",
   "execution_count": 6,
   "metadata": {},
   "outputs": [
    {
     "name": "stdout",
     "output_type": "stream",
     "text": [
      "{'Compound': {'names': ['BiFeO3']}}\n",
      "{'Compound': {'names': ['LaCrO3']}}\n",
      "{'Compound': {'names': ['LaCrO2']}}\n",
      "{'Compound': {'names': ['Gd']}}\n",
      "{'CurieTemperature': {'raw_value': '1100', 'raw_units': 'K', 'value': [1100.0], 'units': 'Kelvin^(1.0)', 'specifier': 'Tc', 'compound': {'Compound': {'names': ['BiFeO3']}}, 'label': 'Inorganic'}}\n",
      "{'CurieTemperature': {'raw_value': '643', 'value': [643.0], 'compound': {'Compound': {'names': ['BiFeO3']}}, 'label': 'Inorganic'}}\n",
      "{'CurieTemperature': {'raw_value': '257', 'raw_units': 'K', 'value': [257.0], 'units': 'Kelvin^(1.0)', 'specifier': 'Tc', 'compound': {'Compound': {'names': ['LaCrO3']}}, 'label': 'Inorganic'}}\n",
      "{'CurieTemperature': {'raw_value': '150', 'value': [150.0], 'compound': {'Compound': {'names': ['LaCrO3']}}, 'label': 'Inorganic'}}\n",
      "{'CurieTemperature': {'raw_value': '0.1', 'value': [0.1], 'compound': {'Compound': {'names': ['LaCrO3']}}, 'label': 'Inorganic'}}\n",
      "{'CurieTemperature': {'raw_value': '10', 'raw_units': 'K', 'value': [10.0], 'units': 'Kelvin^(1.0)', 'specifier': 'Tc', 'compound': {'Compound': {'names': ['LaCrO2']}}}}\n",
      "{'CurieTemperature': {'raw_value': '500', 'raw_units': 'K', 'value': [500.0], 'units': 'Kelvin^(1.0)', 'specifier': 'Tc', 'compound': {'Compound': {'names': ['LaCrO2']}}}}\n",
      "{'CurieTemperature': {'raw_value': '294', 'raw_units': 'K', 'value': [294.0], 'units': 'Kelvin^(1.0)', 'specifier': 'Tc', 'compound': {'Compound': {'names': ['Gd']}}, 'label': 'Inorganic'}}\n",
      "{'CurieTemperature': {'raw_value': '659', 'raw_units': 'K', 'value': [659.0], 'units': 'Kelvin^(1.0)', 'specifier': 'Tc', 'compound': {'Compound': {'names': ['Gd']}}, 'label': 'Inorganic'}}\n"
     ]
    }
   ],
   "source": [
    "class CurieTemperature(TemperatureModel):\n",
    "    StringType(parse_expression=I('TC'), required=True, contextual=True, updatable=True)\n",
    "    specifier = StringType(parse_expression=I('TC'), required=True, contextual=True, updatable=True)\n",
    "    compound = ModelType(Compound, required=True, contextual=True)\n",
    "    label = StringType(parse_expression=I('inorganic'))\n",
    "    \n",
    "table = Table(caption=Caption(\"\"),table_data=path, models=[CurieTemperature])\n",
    "for record in table.records:\n",
    "    print(record.serialize())"
   ]
  },
  {
   "cell_type": "code",
   "execution_count": 7,
   "metadata": {},
   "outputs": [
    {
     "name": "stdout",
     "output_type": "stream",
     "text": [
      "{'Compound': {'names': ['BiFeO3']}}\n",
      "{'Compound': {'names': ['LaCrO3']}}\n",
      "{'Compound': {'names': ['LaCrO2']}}\n",
      "{'Compound': {'names': ['Gd']}}\n"
     ]
    }
   ],
   "source": [
    "class CurieTemperature(TemperatureModel):\n",
    "    StringType(parse_expression=I('TC'), required=True, contextual=True, updatable=True)\n",
    "    specifier = StringType(parse_expression=I('TC'), required=True, contextual=True, updatable=True)\n",
    "    compound = ModelType(Compound, required=True, contextual=True)\n",
    "    label = StringType(parse_expression=I('something else'), required=True)\n",
    "    \n",
    "table = Table(caption=Caption(\"\"),table_data=path, models=[CurieTemperature])\n",
    "for record in table.records:\n",
    "    print(record.serialize())"
   ]
  },
  {
   "cell_type": "code",
   "execution_count": null,
   "metadata": {},
   "outputs": [],
   "source": []
  }
 ],
 "metadata": {
  "kernelspec": {
   "display_name": "Python 3 (ipykernel)",
   "language": "python",
   "name": "python3"
  },
  "language_info": {
   "codemirror_mode": {
    "name": "ipython",
    "version": 3
   },
   "file_extension": ".py",
   "mimetype": "text/x-python",
   "name": "python",
   "nbconvert_exporter": "python",
   "pygments_lexer": "ipython3",
   "version": "3.8.16"
  }
 },
 "nbformat": 4,
 "nbformat_minor": 2
}
