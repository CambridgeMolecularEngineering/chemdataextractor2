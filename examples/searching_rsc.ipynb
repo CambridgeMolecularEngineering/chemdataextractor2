{
 "cells": [
  {
   "cell_type": "markdown",
   "metadata": {},
   "source": [
    "# Searching RSC"
   ]
  },
  {
   "cell_type": "code",
   "execution_count": 1,
   "metadata": {},
   "outputs": [],
   "source": [
    "from chemdataextractor.scrape.pub.rsc import RscSearchScraper"
   ]
  },
  {
   "cell_type": "markdown",
   "metadata": {},
   "source": [
    "Imagine we want to look at data from papers involving Aspirin. We first need to download these papers, and the first step to that is to find these documents. To find papers from RSC, we can use the RscSearchScraper class:"
   ]
  },
  {
   "cell_type": "code",
   "execution_count": 2,
   "metadata": {},
   "outputs": [],
   "source": [
    "query_text = \"Aspirin\"\n",
    "scrape = RscSearchScraper().run(query_text)"
   ]
  },
  {
   "cell_type": "markdown",
   "metadata": {},
   "source": [
    "These results can then be converted to a list of JSON style results, from which a number of properties, e.g. DOIs can be found."
   ]
  },
  {
   "cell_type": "code",
   "execution_count": 3,
   "metadata": {},
   "outputs": [
    {
     "name": "stdout",
     "output_type": "stream",
     "text": [
      "b'10.1039/c6cp06202d'\n"
     ]
    }
   ],
   "source": [
    "results = scrape.serialize()\n",
    "print(str(results[0]['doi']).encode('utf-8'))"
   ]
  },
  {
   "cell_type": "markdown",
   "metadata": {},
   "source": [
    "Other properties that can be extracted include:\n",
    "\n",
    "- Title\n",
    "- PDF URL\n",
    "- HTML URL\n",
    "- Landing URL\n",
    "- Journal"
   ]
  }
 ],
 "metadata": {
  "anaconda-cloud": {},
  "kernelspec": {
   "display_name": "Python 3",
   "language": "python",
   "name": "python3"
  },
  "language_info": {
   "codemirror_mode": {
    "name": "ipython",
    "version": 3
   },
   "file_extension": ".py",
   "mimetype": "text/x-python",
   "name": "python",
   "nbconvert_exporter": "python",
   "pygments_lexer": "ipython3",
   "version": "3.6.9"
  }
 },
 "nbformat": 4,
 "nbformat_minor": 2
}
