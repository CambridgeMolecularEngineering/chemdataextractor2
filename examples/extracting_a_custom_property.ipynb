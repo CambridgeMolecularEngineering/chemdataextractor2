{
 "cells": [
  {
   "cell_type": "markdown",
   "metadata": {},
   "source": [
    "# Extracting a Custom Property\n",
    "\n",
    "TODO: Currently doesn't actually work "
   ]
  },
  {
   "cell_type": "code",
   "execution_count": 4,
   "metadata": {},
   "outputs": [],
   "source": [
    "from chemdataextractor import Document\n",
    "from chemdataextractor.model import Compound\n",
    "from chemdataextractor.doc import Paragraph, Heading"
   ]
  },
  {
   "cell_type": "markdown",
   "metadata": {},
   "source": [
    "## Example Document"
   ]
  },
  {
   "cell_type": "markdown",
   "metadata": {},
   "source": [
    "Let's create a simple example document with a single heading followed by a single paragraph:"
   ]
  },
  {
   "cell_type": "code",
   "execution_count": 5,
   "metadata": {},
   "outputs": [],
   "source": [
    "d = Document(\n",
    "    Heading(u'Synthesis of 2,4,6-trinitrotoluene (3a)'),\n",
    "    Paragraph(u'The procedure was followed to yield a pale yellow solid (b.p. 240 °C)')\n",
    ")"
   ]
  },
  {
   "cell_type": "markdown",
   "metadata": {},
   "source": [
    "What does this look like:"
   ]
  },
  {
   "cell_type": "code",
   "execution_count": 6,
   "metadata": {},
   "outputs": [
    {
     "data": {
      "text/html": [
       "<div class=\"cde-document\">\n",
       "<h2 class=\"cde-title\">Synthesis of 2,4,6-trinitrotoluene (3a)</h2>\n",
       "<p class=\"cde-paragraph\">The procedure was followed to yield a pale yellow solid (b.p. 240 °C)</p>\n",
       "</div>"
      ],
      "text/plain": [
       "<Document: 2 elements>"
      ]
     },
     "execution_count": 6,
     "metadata": {},
     "output_type": "execute_result"
    }
   ],
   "source": [
    "d"
   ]
  },
  {
   "cell_type": "markdown",
   "metadata": {},
   "source": [
    "## Default Models\n",
    "\n",
    "By default, ChemDataExtractor won't extract the boiling point property:"
   ]
  },
  {
   "cell_type": "code",
   "execution_count": 7,
   "metadata": {},
   "outputs": [
    {
     "data": {
      "text/plain": [
       "[{'names': ['2,4,6-trinitrotoluene'], 'labels': ['3a'], 'roles': ['product']}]"
      ]
     },
     "execution_count": 7,
     "metadata": {},
     "output_type": "execute_result"
    }
   ],
   "source": [
    "d.records.serialize()"
   ]
  },
  {
   "cell_type": "markdown",
   "metadata": {},
   "source": [
    "## Defining a New Property Model\n",
    "\n",
    "The first task is to define the schema of a new property. We already have a `TemperatureModel` defined, which will handle things such as value and units. Because of this information, all we need to add is a specifier for boiling point, and the automatic parsers defined in ChemDataExtractor should be able to handle the rest."
   ]
  },
  {
   "cell_type": "code",
   "execution_count": 5,
   "metadata": {},
   "outputs": [],
   "source": [
    "from chemdataextractor.model.units import TemperatureModel, Temperature, Kelvin\n",
    "from chemdataextractor.model import ListType, ModelType, StringType, Compound\n",
    "from chemdataextractor.parse import I\n",
    "\n",
    "class BoilingPoint(TemperatureModel):\n",
    "    specifier = StringType(parse_expression=I('Boiling') + I('Point'))\n",
    "    compound = ModelType(Compound, required=True, contextual=True)"
   ]
  },
  {
   "cell_type": "markdown",
   "metadata": {},
   "source": [
    "## Writing a New Parser\n",
    "\n",
    "There are also cases when we want to define our own parsers in addition to the already defined ones. Let's define parsing rules that define how to interpret text and convert it into the model:"
   ]
  },
  {
   "cell_type": "code",
   "execution_count": 2,
   "metadata": {},
   "outputs": [],
   "source": [
    "import re\n",
    "from chemdataextractor.parse import R, I, W, Optional, merge\n",
    "\n",
    "prefix = (R(u'^b\\.?p\\.?$', re.I) | I(u'boiling') + I(u'point')).hide()\n",
    "units = (W(u'°') + Optional(R(u'^[CFK]\\.?$')))(u'units').add_action(merge)\n",
    "value = R(u'^\\d+(\\.\\d+)?$')(u'value')\n",
    "bp = (prefix + value + units)(u'bp')"
   ]
  },
  {
   "cell_type": "code",
   "execution_count": 3,
   "metadata": {},
   "outputs": [
    {
     "ename": "ImportError",
     "evalue": "cannot import name 'BaseSentenceParser'",
     "output_type": "error",
     "traceback": [
      "\u001b[0;31m---------------------------------------------------------------------------\u001b[0m",
      "\u001b[0;31mImportError\u001b[0m                               Traceback (most recent call last)",
      "\u001b[0;32m<ipython-input-3-bc37cdf22a85>\u001b[0m in \u001b[0;36m<module>\u001b[0;34m\u001b[0m\n\u001b[0;32m----> 1\u001b[0;31m \u001b[0;32mfrom\u001b[0m \u001b[0mchemdataextractor\u001b[0m\u001b[0;34m.\u001b[0m\u001b[0mparse\u001b[0m\u001b[0;34m.\u001b[0m\u001b[0mbase\u001b[0m \u001b[0;32mimport\u001b[0m \u001b[0mBaseSentenceParser\u001b[0m\u001b[0;34m\u001b[0m\u001b[0;34m\u001b[0m\u001b[0m\n\u001b[0m\u001b[1;32m      2\u001b[0m \u001b[0;32mfrom\u001b[0m \u001b[0mchemdataextractor\u001b[0m\u001b[0;34m.\u001b[0m\u001b[0mutils\u001b[0m \u001b[0;32mimport\u001b[0m \u001b[0mfirst\u001b[0m\u001b[0;34m\u001b[0m\u001b[0;34m\u001b[0m\u001b[0m\n\u001b[1;32m      3\u001b[0m \u001b[0;34m\u001b[0m\u001b[0m\n\u001b[1;32m      4\u001b[0m \u001b[0;32mclass\u001b[0m \u001b[0mBpParser\u001b[0m\u001b[0;34m(\u001b[0m\u001b[0mBaseSentenceParser\u001b[0m\u001b[0;34m)\u001b[0m\u001b[0;34m:\u001b[0m\u001b[0;34m\u001b[0m\u001b[0;34m\u001b[0m\u001b[0m\n\u001b[1;32m      5\u001b[0m     \u001b[0mroot\u001b[0m \u001b[0;34m=\u001b[0m \u001b[0mbp\u001b[0m\u001b[0;34m\u001b[0m\u001b[0;34m\u001b[0m\u001b[0m\n",
      "\u001b[0;31mImportError\u001b[0m: cannot import name 'BaseSentenceParser'"
     ]
    }
   ],
   "source": [
    "from chemdataextractor.parse.base import BaseSentenceParser\n",
    "from chemdataextractor.utils import first\n",
    "\n",
    "class BpParser(BaseSentenceParser):\n",
    "    root = bp\n",
    "\n",
    "    def interpret(self, result, start, end):\n",
    "        compound = Compound()\n",
    "        raw_value = first(result.xpath('./bp/value/text()'))\n",
    "        raw_units = first(result.xpath('./bp/units/text()'))\n",
    "        melting_point = self.model(raw_value=raw_value,\n",
    "                    raw_units=raw_units,\n",
    "                    value=self.extract_value(raw_value),\n",
    "                    error=self.extract_error(raw_value),\n",
    "                    units=self.extract_units(raw_units, strict=True),\n",
    "                    compound=compound)\n",
    "        cem_el = first(result.xpath('./cem'))\n",
    "        if cem_el is not None:\n",
    "            melting_point.compound.names = cem_el.xpath('./name/text()')\n",
    "            melting_point.compound.labels = cem_el.xpath('./label/text()')\n",
    "            yield melting_point\n"
   ]
  },
  {
   "cell_type": "code",
   "execution_count": 14,
   "metadata": {},
   "outputs": [],
   "source": [
    "BoilingPoint.parsers.append(BpParser)"
   ]
  },
  {
   "cell_type": "markdown",
   "metadata": {},
   "source": [
    "## Running the New Parser"
   ]
  },
  {
   "cell_type": "code",
   "execution_count": 15,
   "metadata": {},
   "outputs": [
    {
     "name": "stdout",
     "output_type": "stream",
     "text": [
      "[<chemdataextractor.parse.auto.AutoSentenceParser object at 0x1094fc4a8>, <chemdataextractor.parse.auto.AutoTableParser object at 0x1094fc6d8>, <class '__main__.BpParser'>, <class '__main__.BpParser'>]\n",
      "Updating records <class '__main__.BoilingPoint'>\n",
      "Updating records <class '__main__.BoilingPoint'>\n"
     ]
    },
    {
     "data": {
      "text/plain": [
       "[{'names': ['2,4,6-trinitrotoluene'], 'labels': ['3a'], 'roles': ['product']}]"
      ]
     },
     "execution_count": 15,
     "metadata": {},
     "output_type": "execute_result"
    }
   ],
   "source": [
    "print(BoilingPoint.parsers)\n",
    "\n",
    "d = Document(\n",
    "    Heading(u'Synthesis of 2,4,6-trinitrotoluene (3a)'),\n",
    "    Paragraph(u'The procedure was followed to yield a pale yellow solid (b.p. 240 °C)'),\n",
    "    models = [BoilingPoint]\n",
    ")\n",
    "\n",
    "d.records.serialize()"
   ]
  },
  {
   "cell_type": "code",
   "execution_count": null,
   "metadata": {},
   "outputs": [],
   "source": []
  }
 ],
 "metadata": {
  "kernelspec": {
   "display_name": "Python 3",
   "language": "python",
   "name": "python3"
  },
  "language_info": {
   "codemirror_mode": {
    "name": "ipython",
    "version": 3
   },
   "file_extension": ".py",
   "mimetype": "text/x-python",
   "name": "python",
   "nbconvert_exporter": "python",
   "pygments_lexer": "ipython3",
   "version": "3.6.7"
  }
 },
 "nbformat": 4,
 "nbformat_minor": 1
}
