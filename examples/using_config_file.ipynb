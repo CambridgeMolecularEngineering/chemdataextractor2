{
 "cells": [
  {
   "cell_type": "markdown",
   "metadata": {},
   "source": [
    "# Using the Config file\n",
    "Config files are managed by the `config.py` module"
   ]
  },
  {
   "cell_type": "markdown",
   "metadata": {},
   "source": [
    "First import the module, and create a `Config` instance. This takes an argument to a yaml config file you have made."
   ]
  },
  {
   "cell_type": "code",
   "execution_count": 1,
   "metadata": {},
   "outputs": [],
   "source": [
    "from chemdataextractor.config import Config\n",
    "import os\n",
    "example_path = os.path.join('tests', 'data', 'test_config.yml')\n",
    "c = Config(example_path)"
   ]
  },
  {
   "cell_type": "markdown",
   "metadata": {},
   "source": [
    "The example file looks like this:"
   ]
  },
  {
   "cell_type": "markdown",
   "metadata": {},
   "source": [
    "# Example Config for testing\n",
    "\n",
    "PARSERS:\n",
    "\n",
    "    Paragraph: [CompoundParser, ChemicalLabelParser, NmrParser]\n",
    "    Table: [CompoundTableParser, UvvisAbsQuantumYieldTableParser, UvvisEmiQuantumYieldTableParser]\n",
    "    Title: [NmrParser]\n",
    "    Heading: [NmrParser]\n",
    "    Footnote: [ChemicalLabelParser]\n",
    "    Caption: [NmrParser]\n",
    "\n",
    "POS_TAGGER: CrfPosTagger\n",
    "\n",
    "NER_TAGGER: CiDictCemTagger\n",
    "\n",
    "LEXICON: Lexicon\n",
    "\n",
    "SENTENCE_TOKENIZER: SentenceTokenizer\n",
    "\n",
    "WORD_TOKENIZER: WordTokenizer\n"
   ]
  },
  {
   "cell_type": "markdown",
   "metadata": {},
   "source": [
    "Parsers are presented as a list, where each element specifies the particular parsers to be used for each CDE type. For example, this file will only use `CompoundParser`, `ChemicalLabelParser` and `NmrParser` to interptre paragraph object. Choosing only those parsers relevant to your work can help speed up the CDE extraction process.\n",
    "\n",
    "The file also allows specification of the various tokenizer and tagger objects used in CDE. For example, the `WORD_TOKENIZER` has now been set to the standard `WordTokenizer` object, which does not support tokenization of chemical specific text."
   ]
  },
  {
   "cell_type": "markdown",
   "metadata": {},
   "source": [
    "You can import these setting when you create a document:"
   ]
  },
  {
   "cell_type": "code",
   "execution_count": 2,
   "metadata": {},
   "outputs": [],
   "source": [
    "from chemdataextractor import Document\n",
    "from chemdataextractor.doc.text import Paragraph\n",
    "doc = Document(Paragraph('Testing'), config=c)"
   ]
  },
  {
   "cell_type": "markdown",
   "metadata": {},
   "source": [
    "You can check your parsers have been loaded correctly by looking at the appropriate objects. For example:"
   ]
  },
  {
   "cell_type": "code",
   "execution_count": 3,
   "metadata": {},
   "outputs": [
    {
     "name": "stdout",
     "output_type": "stream",
     "text": [
      "[<chemdataextractor.parse.cem.CompoundParser object at 0x7fb9773f70f0>, <chemdataextractor.parse.cem.ChemicalLabelParser object at 0x7fb9773f7128>, <chemdataextractor.parse.nmr.NmrParser object at 0x7fb9773f71d0>]\n<chemdataextractor.nlp.tokenize.WordTokenizer object at 0x7fb9773ebac8>\n"
     ]
    }
   ],
   "source": [
    "print(doc.paragraphs[0].parsers)\n",
    "print(doc.paragraphs[0].word_tokenizer)"
   ]
  },
  {
   "cell_type": "code",
   "execution_count": null,
   "metadata": {},
   "outputs": [],
   "source": []
  }
 ],
 "metadata": {
  "kernelspec": {
   "display_name": "Python 2",
   "language": "python",
   "name": "python2"
  },
  "language_info": {
   "codemirror_mode": {
    "name": "ipython",
    "version": 2
   },
   "file_extension": ".py",
   "mimetype": "text/x-python",
   "name": "python",
   "nbconvert_exporter": "python",
   "pygments_lexer": "ipython2",
   "version": "2.7.6"
  }
 },
 "nbformat": 4,
 "nbformat_minor": 0
}
